{
 "cells": [
  {
   "cell_type": "code",
   "execution_count": 122,
   "metadata": {},
   "outputs": [],
   "source": [
    "import requests\n",
    "import boto3\n",
    "import json\n",
    "import uuid\n",
    "import random\n",
    "\n",
    "\n",
    "\n",
    "from datetime import timezone\n",
    "import datetime\n"
   ]
  },
  {
   "cell_type": "code",
   "execution_count": 200,
   "metadata": {},
   "outputs": [],
   "source": [
    "def get_utc_seconds():\n",
    "    dt = datetime.datetime.now(timezone.utc)\n",
    "  \n",
    "    utc_time = dt.replace(tzinfo=timezone.utc)\n",
    "    return round(utc_time.timestamp()*1000)\n",
    "\n",
    "class Optio:\n",
    "    # dev.optio.cloud:5000/api/ui\n",
    "    def __init__(self, username, password, instance='dev.optio.cloud'):\n",
    "        self.__instance = instance\n",
    "        \n",
    "        self.__url = 'http://{}:5000/api/'.format(instance)\n",
    "        self.__access_token = self.authenticate(username, password, app_client_id='110868d55nq4qtqm2kp62curm9')\n",
    "        \n",
    "        maps = self.request('GET', 'site_maps')\n",
    "        self.curr_map_id = maps[0]['_id']\n",
    "        \n",
    "    @property\n",
    "    def access_token(self):\n",
    "        return self.__access_token\n",
    "        \n",
    "    def authenticate(self, username, password, app_client_id):\n",
    "        client = boto3.client('cognito-idp', region_name='us-east-2')\n",
    "    \n",
    "        resp = client.initiate_auth(\n",
    "            # UserPoolId=user_pool_id,\n",
    "            ClientId=app_client_id,\n",
    "            AuthFlow='USER_PASSWORD_AUTH',\n",
    "            AuthParameters={\n",
    "                \"USERNAME\": username,\n",
    "                \"PASSWORD\": password\n",
    "            }\n",
    "        )\n",
    "        \n",
    "        print('Login success')\n",
    "        return resp['AuthenticationResult']['IdToken']\n",
    "        \n",
    "    def request(self, method='GET', operator='', payload=None):\n",
    "\n",
    "        if operator in ['stations', 'processes', 'dashboards', 'tasks', 'lot_templates', 'cards'] and method == 'GET':\n",
    "            operator = 'site_maps/{}/{}'.format(self.curr_map_id, operator)\n",
    "        \n",
    "        response = requests.request(\n",
    "            method,\n",
    "            url=self.__url + operator,\n",
    "            headers={\n",
    "                'Authorization': '{}'.format(self.__access_token),\n",
    "                'Access-Control-Allow-Origin': '*', \n",
    "                'Content-Type': 'application/json'     \n",
    "            },\n",
    "            data=json.dumps(payload))\n",
    "        \n",
    "        if method != 'DELETE':\n",
    "            try:\n",
    "                return json.loads(response.json())\n",
    "            except Exception:\n",
    "                raise Exception(response.text)\n",
    "        \n",
    "        \n",
    "    ## ========== Basic GET functions ========= ##\n",
    "    \n",
    "    # ----- GET by ID ----- #\n",
    "    def get_station_by_id(self, ID):\n",
    "        return self.request('GET', 'stations/{}'.format(ID))\n",
    "    \n",
    "    def get_route_by_id(self, ID):\n",
    "        return self.request('GET', 'tasks/{}'.format(ID))\n",
    "    \n",
    "    def get_process_by_id(self, ID):\n",
    "        return self.request('GET', 'processes/{}'.format(ID))\n",
    "    \n",
    "    def get_lot_by_id(self, ID):\n",
    "        return self.request('GET', 'cards/{}'.format(ID))\n",
    "    \n",
    "    def get_lot_template_by_id(self, ID):\n",
    "        return self.request('GET', 'lot_template/{}'.format(ID))\n",
    "    \n",
    "    def get_dashboard_by_id(self, ID):\n",
    "        return self.request('GET', 'dashboards/{}'.format(ID))\n",
    "    \n",
    "    def get_map_by_id(self,\n",
    "                      ID):\n",
    "        return self.request('GET', 'site_maps/{}'.format(ID))\n",
    "    \n",
    "    # ----- GET by Name ----- #\n",
    "    def get_station_by_name(self, name):\n",
    "        stations = self.request('GET', 'stations')\n",
    "        return next(station for station in stations if station['name'] == name)\n",
    "    \n",
    "    def get_route_by_name(self, name):\n",
    "        routes = self.request('GET', 'tasks')\n",
    "        return next(route for route in routes if route['name'] == name)\n",
    "    \n",
    "    def get_process_by_name(self, name):\n",
    "        processes = self.request('GET', 'processes')\n",
    "        return next(process for process in processes if process['name'] == name)\n",
    "    \n",
    "    def get_lot_by_name(self, name):\n",
    "        lots = self.request('GET', 'cards')\n",
    "        return next(lot for lot in lots if lot['name'] == name)\n",
    "    \n",
    "    def get_lot_template_by_name(self, process_id, name):\n",
    "        #lot_templates = self.request('GET', 'lot_templates')\n",
    "        lot_templates=self.request('GET','site_maps/{}/cards/templates'.format(self.curr_map_id))\n",
    "\n",
    "        return [lot_template for lot_template in lot_templates if lot_template['name'] == name and lot_template['processId']==process_id]\n",
    "    \n",
    "    def get_map_by_name(self, name):\n",
    "        site_maps = self.request('GET', 'site_maps')\n",
    "        return next(site_map for site_map in site_maps if site_map['name'] == name)\n",
    "    \n",
    "    # ---- GET Collections ----- #\n",
    "    \n",
    "    def get_processes(self):\n",
    "        return self.request('GET','processes')\n",
    "    \n",
    "    def get_stations(self):\n",
    "        return self.request('GET','stations')\n",
    "    \n",
    "    def get_all_lot_ids(self):\n",
    "            lots = self.request('GET','/site_maps/{}/cards'.format(self.curr_map_id))\n",
    "            return [lot['_id'] for lot in lots]\n",
    "        \n",
    "    def get_all_routes(self):\n",
    "        return self.request('GET', 'tasks')\n",
    "\n",
    "    \n",
    "    \n",
    "    \n",
    "    ## ========== Basic Set function =========== ##\n",
    "        \n",
    "    def delete_lot_by_id(self, ID):\n",
    "        return self.request('DELETE', 'cards/{}'.format(ID))\n",
    "    \n",
    "#   return self.request('GET', 'cards/{}'.format(ID))\n",
    "\n",
    "    \n",
    "    def delete_all_lots(self):\n",
    "        for _id in self.get_all_lot_ids():\n",
    "            self.delete_lot_by_id(_id)\n",
    "            \n",
    "    ## ========== Sim Helper Functions ========= ##\n",
    "    def get_sources_from_process(self,process):\n",
    "        sources=[]\n",
    "        routes=process['routes']\n",
    "        load_stations = [self.get_route_by_id(route_id)['load'] for route_id in routes]\n",
    "        unload_stations = [self.get_route_by_id(route_id)['unload'] for route_id in routes]\n",
    "        for ls in load_stations:\n",
    "            #name=optio.get_station_by_id(ls)['name']   \n",
    "            if(ls not in unload_stations):\n",
    "                #print('{} is a source'.format(name))\n",
    "                sources.append(ls)\n",
    "        return sources\n",
    "\n",
    "\n",
    "    def find_route_between_stations(self, process_name, load_station_name, unload_station_name):\n",
    "        routes = self.request('GET', 'tasks')\n",
    "        process = self.get_process_by_name(process_name)\n",
    "        if not process: raise Exception('Process {} does not exist'.format(process_name))\n",
    "        for route in routes:\n",
    "            load_station = self.get_station_by_id(route['load'])\n",
    "            unload_station = self.get_station_by_id(route['unload'])\n",
    "            \n",
    "            if route['processId'] == process['_id'] and load_station['name'] == load_station_name and unload_station['name'] == unload_station_name:\n",
    "                return route\n",
    "            \n",
    "        raise Exception('Route between {} and {} does not exist'.format(load_station_name, unload_station_name))\n",
    "        \n",
    "    def find_lots_at_station(self, station_name):\n",
    "        station_id = self.get_station_by_name(station_name)['_id']\n",
    "        cards = self.request('GET', 'cards')\n",
    "        cards_at_station = [card for card in cards if station_id in card['bins'].keys()]\n",
    "        return cards_at_station\n",
    "    \n",
    "    def move_lot(self, lot_id, quantity, route_id, log_event=True, operator='Operator'):\n",
    "        \n",
    "        # Find lot by ID\n",
    "        lot = self.get_lot_by_id(lot_id)\n",
    "        if not lot: raise Exception('Lot not found')\n",
    "        \n",
    "        # Find route by ID\n",
    "        route = self.get_route_by_id(route_id)\n",
    "        if not route: raise Exception('Route not found')\n",
    "        \n",
    "        load_station = self.get_station_by_id(route['load'])\n",
    "        load_dashboard = self.get_dashboard_by_id(load_station['dashboards'][0])\n",
    "        \n",
    "        # Extract load and unload stations from route\n",
    "        load_station_id = route['load']\n",
    "        unload_station_id = route['unload']\n",
    "        \n",
    "        # Bins contain the information about how many parts are at what station\n",
    "        # Make sure this move event is valid\n",
    "        bins = lot['bins']\n",
    "        if load_station_id not in bins.keys():\n",
    "            raise Exception('There are no parts of lot at route load station')\n",
    "        elif bins[load_station_id]['count'] < quantity:\n",
    "            raise Exception('Cannot move {} parts from lot when only {} parts exist at load station'.format(quantity, bins[load_station_id]['count']))\n",
    "        \n",
    "        # Set the new quantity at the unload station\n",
    "        if unload_station_id in bins.keys():\n",
    "            bins[unload_station_id]['count'] += quantity\n",
    "        else:\n",
    "            bins[unload_station_id] = {\n",
    "                'count': quantity\n",
    "            }\n",
    "        \n",
    "        # Subtract the move quantity from the load station, and delete that bin if it is now empty\n",
    "        bins[load_station_id]['count'] -= quantity\n",
    "        if bins[load_station_id]['count'] <= 0 and len(bins[load_station_id].keys()) == 1:\n",
    "            del bins[load_station_id]\n",
    "        \n",
    "        # Update the lot in the DB\n",
    "        lot['bins'] = bins  \n",
    "        self.request('PUT', 'cards/{}'.format(lot['_id']), lot)\n",
    "        \n",
    "        # Log touch event\n",
    "        if log_event:\n",
    "            utc_seconds = get_utc_seconds()\n",
    "            touch_event = {\n",
    "                \"dashboard_id\": load_dashboard['_id']['$oid'],\n",
    "                \"load_station_id\": route['load'],\n",
    "                \"lot_id\": lot_id,\n",
    "                \"notes\": \"\",\n",
    "                \"product_group_id\": lot['lotTemplateId'],\n",
    "                \"quantity\": quantity,\n",
    "                \"route_id\": route_id,\n",
    "                \"sku\": \"default\",\n",
    "                \"start_time\": utc_seconds,\n",
    "                \"stop_time\": utc_seconds,\n",
    "                \"unload_station_id\": route['unload'],\n",
    "                \"user\": operator\n",
    "                }\n",
    "            \n",
    "            self.request('POST', 'touch_events', touch_event)\n",
    "            \n",
    "            \n",
    "    def create_lot(self, lot, log_event=True, operator='Operator'):\n",
    "        \n",
    "        self.request('POST', 'cards', lot)\n",
    "        \n",
    "        \n",
    "    def create_lots(self, lots):\n",
    "        for lot in lots:\n",
    "            self.create_lot(lot)\n",
    "\n",
    "    def kickoff_lot(self, lot_id, quantity, station_id, log_event=True, operator='Operator'):\n",
    "        \n",
    "        # Find lot by ID\n",
    "        lot = self.get_lot_by_id(lot_id)\n",
    "        if not lot: raise Exception('Lot not found')\n",
    "        \n",
    "        # Find station by ID\n",
    "        station = self.get_station_by_id(station_id)\n",
    "        if not station: raise Exception('Station not found')\n",
    "        \n",
    "        unload_station_id = station_id\n",
    "        \n",
    "        # Bins contain the information about how many parts are at what station\n",
    "        # Make sure this move event is valid\n",
    "        bins = lot['bins']\n",
    "        if 'QUEUE' not in bins.keys():\n",
    "            raise Exception('There are no parts of lot in the queue')\n",
    "        elif bins['QUEUE']['count'] < quantity:\n",
    "            raise Exception('Cannot move {} parts from lot when only {} parts exist at QUEUE'.format(quantity, bins['QUEUE']['count']))\n",
    "        \n",
    "        # Set the new quantity at the unload station\n",
    "        if unload_station_id in bins.keys():\n",
    "            bins[unload_station_id]['count'] += quantity\n",
    "        else:\n",
    "            bins[unload_station_id] = {\n",
    "                'count': quantity\n",
    "            }\n",
    "        \n",
    "        # Subtract the move quantity from the load station, and delete that bin if it is now empty\n",
    "        bins['QUEUE']['count'] -= quantity\n",
    "        if bins['QUEUE']['count'] <= 0 and len(bins['QUEUE'].keys()) == 1:\n",
    "            del bins['QUEUE']\n",
    "        \n",
    "        # Update the lot in the DB\n",
    "        lot['bins'] = bins  \n",
    "        self.request('PUT', 'cards/{}'.format(lot['_id']), lot)"
   ]
  },
  {
   "cell_type": "code",
   "execution_count": 203,
   "metadata": {},
   "outputs": [
    {
     "name": "stdout",
     "output_type": "stream",
     "text": [
      "Login success\n"
     ]
    }
   ],
   "source": [
    "optio = Optio('nikolaus@optio.cloud', 'Vaygts99')"
   ]
  },
  {
   "cell_type": "code",
   "execution_count": 204,
   "metadata": {},
   "outputs": [],
   "source": [
    "optio.curr_map_id = optio.get_map_by_name('Phunkshun')['_id']"
   ]
  },
  {
   "cell_type": "code",
   "execution_count": 205,
   "metadata": {},
   "outputs": [],
   "source": [
    "optio.delete_all_lots()"
   ]
  },
  {
   "cell_type": "code",
   "execution_count": 193,
   "metadata": {},
   "outputs": [
    {
     "data": {
      "text/plain": [
       "'6174a5a804497e973f19985b'"
      ]
     },
     "execution_count": 193,
     "metadata": {},
     "output_type": "execute_result"
    }
   ],
   "source": [
    "template_id=optio.get_lot_template_by_name('Basic')['_id']\n",
    "template_id"
   ]
  },
  {
   "cell_type": "code",
   "execution_count": 191,
   "metadata": {},
   "outputs": [],
   "source": [
    "optio.request('DELETE','/cards/templates/6176ed857134ed0c53957539')"
   ]
  },
  {
   "cell_type": "code",
   "execution_count": 198,
   "metadata": {},
   "outputs": [
    {
     "data": {
      "text/plain": [
       "[{'_id': '6170ea6e1d78ead8cd59518c',\n",
       "  'fields': [[{'_id': 'e11b4950-4e3a-4c27-bd74-57925b470755',\n",
       "     'component': 'TEXT_BOX_BIG',\n",
       "     'dataType': 'STRING',\n",
       "     'fieldName': 'description',\n",
       "     'required': False,\n",
       "     'showInPreview': True,\n",
       "     'key': 0}],\n",
       "   [{'component': 'TEXT_BOX',\n",
       "     'dataType': 'STRING',\n",
       "     '_id': 'b045222f-e29e-41e2-a8b3-ed9acc2c8404',\n",
       "     'fieldName': 'Binding type',\n",
       "     'required': True,\n",
       "     'showInPreview': True}],\n",
       "   [{'component': 'INPUT_BOX',\n",
       "     'dataType': 'STRING',\n",
       "     '_id': '89816fcf-95af-4fdb-ae8e-109238414ec9',\n",
       "     'fieldName': 'Tip angle',\n",
       "     'required': False,\n",
       "     'showInPreview': True}],\n",
       "   [{'_id': '58900099-fd9c-459c-8e6a-4d04acc597a9',\n",
       "     'component': 'CALENDAR_START_END',\n",
       "     'dataType': 'DATE_RANGE',\n",
       "     'fieldName': 'dates',\n",
       "     'required': False,\n",
       "     'showInPreview': True,\n",
       "     'key': 1}]],\n",
       "  'name': 'Snowboards',\n",
       "  'displayNames': {'name': 'Name', 'count': 'Quantity'},\n",
       "  'processId': '3d0a9c29-4d9b-499d-90f1-583291fdb6bb',\n",
       "  'map_id': '04356d73-3253-4114-a35b-1ed3eec6a17b',\n",
       "  'uploadFieldMapping': ['Name',\n",
       "   None,\n",
       "   'description',\n",
       "   None,\n",
       "   'Binding type',\n",
       "   'dates (end)',\n",
       "   'Quantity',\n",
       "   None,\n",
       "   'Tip angle']},\n",
       " {'_id': '6174a5a804497e973f19985b',\n",
       "  'fields': [[{'_id': 'DEFAULT_DESCRIPTION_FIELD_ID',\n",
       "     'component': 'TEXT_BOX_BIG',\n",
       "     'dataType': 'STRING',\n",
       "     'fieldName': 'description',\n",
       "     'required': False,\n",
       "     'showInPreview': True,\n",
       "     'key': 0}],\n",
       "   [{'_id': 'DEFAULT_DATES_FIELD_ID',\n",
       "     'component': 'CALENDAR_START_END',\n",
       "     'dataType': 'DATE_RANGE',\n",
       "     'fieldName': 'dates',\n",
       "     'required': False,\n",
       "     'showInPreview': True,\n",
       "     'key': 1}]],\n",
       "  'name': 'Basic',\n",
       "  'processId': 'f21719c2-6695-4f05-8915-4967e3c4bb89',\n",
       "  'map_id': '04356d73-3253-4114-a35b-1ed3eec6a17b'},\n",
       " {'_id': '6176f88400be6878982287ed',\n",
       "  'fields': [[{'_id': 'DEFAULT_DESCRIPTION_FIELD_ID',\n",
       "     'component': 'TEXT_BOX_BIG',\n",
       "     'dataType': 'STRING',\n",
       "     'fieldName': 'description',\n",
       "     'required': False,\n",
       "     'showInPreview': True,\n",
       "     'key': 0}],\n",
       "   [{'_id': 'DEFAULT_DATES_FIELD_ID',\n",
       "     'component': 'CALENDAR_START_END',\n",
       "     'dataType': 'DATE_RANGE',\n",
       "     'fieldName': 'dates',\n",
       "     'required': False,\n",
       "     'showInPreview': True,\n",
       "     'key': 1}]],\n",
       "  'name': 'Basic',\n",
       "  'processId': 'c590bab0-9050-4dfe-9bb0-6795a28869ed',\n",
       "  'map_id': '04356d73-3253-4114-a35b-1ed3eec6a17b'}]"
      ]
     },
     "execution_count": 198,
     "metadata": {},
     "output_type": "execute_result"
    }
   ],
   "source": [
    "lot_templates=optio.request('GET','site_maps/{}/cards/templates'.format(optio.curr_map_id))\n",
    "lot_templates"
   ]
  },
  {
   "cell_type": "code",
   "execution_count": 176,
   "metadata": {},
   "outputs": [],
   "source": [
    "lot=optio.get_lot_by_id(optio.get_all_lot_ids()[0])"
   ]
  },
  {
   "cell_type": "code",
   "execution_count": 154,
   "metadata": {},
   "outputs": [],
   "source": [
    "station=optio.get_station_by_name('Plank cutting')\n",
    "station_id=station['_id']\n",
    "process=optio.get_process_by_name('Plank cutting')\n",
    "name=\"Test\"\n",
    "map_id=optio.curr_map_id"
   ]
  },
  {
   "cell_type": "code",
   "execution_count": 194,
   "metadata": {},
   "outputs": [],
   "source": [
    "               template={'_id':str(uuid.uuid4()),\n",
    "                          'bins': {station_id :{'count':100}},\n",
    "                           \"fields\": [[{'_id': 'DEFAULT_DESCRIPTION_FIELD_ID',\n",
    "                                        'component': 'TEXT_BOX_BIG',\n",
    "                                        'dataType': 'STRING',\n",
    "                                        'fieldName': 'description',\n",
    "                                        'required': False,\n",
    "                                        'showInPreview': True,\n",
    "                                        'key': 0,\n",
    "                                        'value': ''}],\n",
    "                                      [{'_id': 'DEFAULT_DATES_FIELD_ID',\n",
    "                                        'component': 'CALENDAR_START_END',\n",
    "                                        'dataType': 'DATE_RANGE',\n",
    "                                        'fieldName': 'dates',\n",
    "                                        'required': False,\n",
    "                                        'showInPreview': True,\n",
    "                                        'key': 1,\n",
    "                                        'value': [None, None]}]],\n",
    "                           \"flags\": [],\n",
    "                          'lotNum' : 0,\n",
    "                          'lotTemplateId' : template_id,\n",
    "                          'name':name,\n",
    "                          'description': \"\",\n",
    "                          'process_id':process[\"_id\"],\n",
    "                          'map_id':map_id,\n",
    "                          'totalQuantity': 1,\n",
    "                          'syncWithTemplate' : False,\n",
    "                          #'start_date' : {'year':2021, 'month':2, 'day':random.randrange(5,7)},\n",
    "                          #'end_date' : None,\n",
    "                          \n",
    "                         }"
   ]
  },
  {
   "cell_type": "code",
   "execution_count": 196,
   "metadata": {},
   "outputs": [
    {
     "name": "stdout",
     "output_type": "stream",
     "text": [
      "{'_id': '6176f69f6346c64db1d3e9af', 'bins': {'87101f65-519c-4e29-b0f2-fb10afa45c50': {'count': 100}}, 'fields': [[{'_id': 'DEFAULT_DESCRIPTION_FIELD_ID', 'component': 'TEXT_BOX_BIG', 'dataType': 'STRING', 'fieldName': 'description', 'required': False, 'showInPreview': True, 'key': 0, 'value': ''}], [{'_id': 'DEFAULT_DATES_FIELD_ID', 'component': 'CALENDAR_START_END', 'dataType': 'DATE_RANGE', 'fieldName': 'dates', 'required': False, 'showInPreview': True, 'key': 1, 'value': [None, None]}]], 'flags': [], 'lotNum': 0, 'lotTemplateId': '6174a5a804497e973f19985b', 'name': 'Test', 'description': '', 'process_id': 'f21719c2-6695-4f05-8915-4967e3c4bb89', 'map_id': '04356d73-3253-4114-a35b-1ed3eec6a17b', 'totalQuantity': 1, 'syncWithTemplate': False}\n"
     ]
    }
   ],
   "source": [
    "a=optio.create_lot(template)"
   ]
  },
  {
   "cell_type": "code",
   "execution_count": 69,
   "metadata": {},
   "outputs": [],
   "source": [
    "lot_id=optio.get_all_lot_ids()[0]\n",
    "lot=optio.get_lot_by_id(lot_id)"
   ]
  },
  {
   "cell_type": "code",
   "execution_count": 75,
   "metadata": {},
   "outputs": [
    {
     "data": {
      "text/plain": [
       "{'_id': {},\n",
       " 'name': '',\n",
       " 'bins': {'87101f65-519c-4e29-b0f2-fb10afa45c50': {'count': 1}},\n",
       " 'flags': [],\n",
       " 'process_id': 'f21719c2-6695-4f05-8915-4967e3c4bb89',\n",
       " 'lotTemplateId': '6174a5a804497e973f19985b',\n",
       " 'lotNum': 387,\n",
       " 'fields': [[{'_id': 'DEFAULT_DESCRIPTION_FIELD_ID',\n",
       "    'component': 'TEXT_BOX_BIG',\n",
       "    'dataType': 'STRING',\n",
       "    'fieldName': 'description',\n",
       "    'required': False,\n",
       "    'showInPreview': True,\n",
       "    'key': 0,\n",
       "    'value': ''}],\n",
       "  [{'_id': 'DEFAULT_DATES_FIELD_ID',\n",
       "    'component': 'CALENDAR_START_END',\n",
       "    'dataType': 'DATE_RANGE',\n",
       "    'fieldName': 'dates',\n",
       "    'required': False,\n",
       "    'showInPreview': True,\n",
       "    'key': 1,\n",
       "    'value': [None, None]}]],\n",
       " 'totalQuantity': 1,\n",
       " 'syncWithTemplate': False,\n",
       " 'map_id': '04356d73-3253-4114-a35b-1ed3eec6a17b'}"
      ]
     },
     "execution_count": 75,
     "metadata": {},
     "output_type": "execute_result"
    }
   ],
   "source": [
    "lot['_id']={}\n",
    "lot"
   ]
  },
  {
   "cell_type": "code",
   "execution_count": 9,
   "metadata": {},
   "outputs": [
    {
     "name": "stdout",
     "output_type": "stream",
     "text": [
      "Snowboard\n",
      "Plank cutting\n"
     ]
    }
   ],
   "source": [
    "for proc in processes:\n",
    "    print(proc['name'])"
   ]
  },
  {
   "cell_type": "code",
   "execution_count": null,
   "metadata": {},
   "outputs": [],
   "source": [
    "route = optio.find_route_between_stations('Snowboard', 'Mount binding', 'Quality Inspection')"
   ]
  },
  {
   "cell_type": "code",
   "execution_count": null,
   "metadata": {},
   "outputs": [],
   "source": [
    "lots_at_printing = optio.find_lots_at_station('Queue')"
   ]
  },
  {
   "cell_type": "code",
   "execution_count": null,
   "metadata": {},
   "outputs": [],
   "source": [
    "lots_at_printing[0]['_id']\n",
    "#optio.delete_lot_by_id(lots_at_printing[0]['_id'])"
   ]
  },
  {
   "cell_type": "code",
   "execution_count": null,
   "metadata": {},
   "outputs": [],
   "source": [
    "optio.move_lot(lots_at_printing[0]['_id'], 1, route['_id'])"
   ]
  },
  {
   "cell_type": "code",
   "execution_count": null,
   "metadata": {},
   "outputs": [],
   "source": [
    "optio.get_station_by_name('Mount binding')"
   ]
  },
  {
   "cell_type": "code",
   "execution_count": null,
   "metadata": {},
   "outputs": [],
   "source": [
    "maps = "
   ]
  }
 ],
 "metadata": {
  "interpreter": {
   "hash": "351be322aa38eb93a07036057661ea6935b0ca0c932be464540366c1ce93de1e"
  },
  "kernelspec": {
   "display_name": "Python 3",
   "language": "python",
   "name": "python3"
  },
  "language_info": {
   "codemirror_mode": {
    "name": "ipython",
    "version": 3
   },
   "file_extension": ".py",
   "mimetype": "text/x-python",
   "name": "python",
   "nbconvert_exporter": "python",
   "pygments_lexer": "ipython3",
   "version": "3.6.5"
  }
 },
 "nbformat": 4,
 "nbformat_minor": 2
}
