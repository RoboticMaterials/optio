{
 "cells": [
  {
   "cell_type": "code",
   "execution_count": 18,
   "metadata": {},
   "outputs": [
    {
     "name": "stdout",
     "output_type": "stream",
     "text": [
      "The autoreload extension is already loaded. To reload it, use:\n",
      "  %reload_ext autoreload\n"
     ]
    }
   ],
   "source": [
    "%load_ext autoreload\n",
    "%autoreload 2\n",
    "\n",
    "import sys\n",
    "from pprint import pprint\n",
    "import pandas as pd\n",
    "import datetime\n",
    "import time\n",
    "import numpy as np\n",
    "\n",
    "sys.path.append('../rest_api')\n",
    "from context import rest_api\n",
    "import rest_api.report_stats\n",
    "import rest_api.station_stats\n",
    "\n",
    "from pymongo import MongoClient\n",
    "client = MongoClient('localhost:27017')\n",
    "db = client.ContactDB"
   ]
  },
  {
   "cell_type": "code",
   "execution_count": 19,
   "metadata": {},
   "outputs": [],
   "source": [
    "from station_stats import  working_seconds_between_datetimes"
   ]
  },
  {
   "cell_type": "code",
   "execution_count": 20,
   "metadata": {},
   "outputs": [
    {
     "ename": "TypeError",
     "evalue": "calculate_pg_station_cycle_time() missing 1 required positional argument: 'new_event'",
     "output_type": "error",
     "traceback": [
      "\u001b[0;31m---------------------------------------------------------------------------\u001b[0m",
      "\u001b[0;31mTypeError\u001b[0m                                 Traceback (most recent call last)",
      "\u001b[0;32m<ipython-input-20-dbaa752eb766>\u001b[0m in \u001b[0;36m<module>\u001b[0;34m\u001b[0m\n\u001b[1;32m     46\u001b[0m         \u001b[0;32mreturn\u001b[0m \u001b[0;36m0\u001b[0m\u001b[0;34m\u001b[0m\u001b[0;34m\u001b[0m\u001b[0m\n\u001b[1;32m     47\u001b[0m \u001b[0;34m\u001b[0m\u001b[0m\n\u001b[0;32m---> 48\u001b[0;31m \u001b[0mcalculate_pg_station_cycle_time\u001b[0m\u001b[0;34m(\u001b[0m\u001b[0mstation_id\u001b[0m\u001b[0;34m,\u001b[0m \u001b[0mproduct_group_id\u001b[0m\u001b[0;34m)\u001b[0m\u001b[0;34m\u001b[0m\u001b[0;34m\u001b[0m\u001b[0m\n\u001b[0m",
      "\u001b[0;31mTypeError\u001b[0m: calculate_pg_station_cycle_time() missing 1 required positional argument: 'new_event'"
     ]
    }
   ],
   "source": [
    "station_id = \"0276353b-58b8-4ad6-b4ec-1b6ab3f7741b\"\n",
    "product_group_id = \"61ae37ba7e08b3abf7200fb4\"\n",
    "\n",
    "def aggregate_quantity(query, limit=None):\n",
    "    pipeline = [{'$match': query}]\n",
    "    pipeline.append({'$sort': {'move_datetime': -1}})\n",
    "    if limit is not None:\n",
    "        pipeline.append({'$limit': limit})\n",
    "    pipeline.append({'$group': {\n",
    "            '_id': '',\n",
    "            'quantity': { '$sum': '$quantity' }\n",
    "        }\n",
    "    })\n",
    "    pipeline.append({'$project': {\n",
    "            '_id': 0,\n",
    "            'totalQuantity': '$quantity'\n",
    "        }\n",
    "    })\n",
    "    return db.touch_events.aggregate(pipeline)[0]['totalQuantity']\n",
    "\n",
    "def calculate_pg_station_cycle_time(station_id, product_group_id, new_event):\n",
    "    base_query = {'$and': [{'load_station_id':station_id}, {'product_group_id': product_group_id}]}\n",
    "\n",
    "    recent_events = list(db.touch_events.find(base_query).sort('move_datetime', -1).limit(30))\n",
    "    recent_events.append(new_event)\n",
    "    first_event = list(db.touch_events.find(base_query).sort('move_datetime', 1).limit(1))\n",
    "    \n",
    "    if len(recent_events) > 2:\n",
    "        first_event = first_event[0]\n",
    "        \n",
    "        recent_quantity = aggregate_quantity(base_query, limit=30) + new_event['quantity']\n",
    "        total_quantity = aggregate_quantity(base_query, limit=None) + new_event['quantity']\n",
    "        \n",
    "        shift_details = db.settings.find_one()['shiftDetails']\n",
    "        current_datetime = recent_events[0]['move_datetime']\n",
    "        thirtieth_event_from_last_datetime = recent_events[-1]['move_datetime']\n",
    "        first_datetime = first_event['move_datetime']\n",
    "        \n",
    "        total_working_seconds = working_seconds_between_datetimes(shift_details, first_datetime, current_datetime)\n",
    "        recent_working_seconds = working_seconds_between_datetimes(shift_details, thirtieth_event_from_last_datetime, current_datetime)\n",
    "        \n",
    "        ps_historical_cycle_time = total_working_seconds / total_quantity\n",
    "        ps_cycle_time = recent_working_seconds / recent_quantity\n",
    "        \n",
    "    else:\n",
    "        return 0\n",
    "\n",
    "calculate_pg_station_cycle_time(station_id, product_group_id)"
   ]
  },
  {
   "cell_type": "code",
   "execution_count": 12,
   "metadata": {},
   "outputs": [
    {
     "data": {
      "text/plain": [
       "278"
      ]
     },
     "execution_count": 12,
     "metadata": {},
     "output_type": "execute_result"
    }
   ],
   "source": [
    "base_query = {'$and': [{'load_station_id':station_id}, {'product_group_id': product_group_id}]}\n",
    "list(db.touch_events.aggregate([\n",
    "    {'$match': base_query},\n",
    "    {'$sort': {'move_datetime': 1}},\n",
    "    {'$limit': 30},\n",
    "    {'$group': {\n",
    "            '_id': '',\n",
    "            'quantity': { '$sum': '$quantity' }\n",
    "        }\n",
    "    },\n",
    "    {'$project': {\n",
    "            '_id': 0,\n",
    "            'totalQuantity': '$quantity'\n",
    "        }\n",
    "    }\n",
    "]))[0]['totalQuantity']"
   ]
  },
  {
   "cell_type": "code",
   "execution_count": 17,
   "metadata": {},
   "outputs": [
    {
     "data": {
      "text/plain": [
       "[datetime.datetime(2021, 8, 23, 21, 56, 17),\n",
       " datetime.datetime(2021, 8, 23, 21, 56, 17),\n",
       " datetime.datetime(2021, 8, 23, 21, 58, 50),\n",
       " datetime.datetime(2021, 8, 23, 21, 58, 50),\n",
       " datetime.datetime(2021, 8, 23, 22, 1, 23)]"
      ]
     },
     "execution_count": 17,
     "metadata": {},
     "output_type": "execute_result"
    }
   ],
   "source": [
    "list([e['move_datetime'] for e in db.touch_events.find().sort('move_datetime',1).limit(5)])"
   ]
  },
  {
   "cell_type": "code",
   "execution_count": null,
   "metadata": {},
   "outputs": [],
   "source": []
  }
 ],
 "metadata": {
  "interpreter": {
   "hash": "351be322aa38eb93a07036057661ea6935b0ca0c932be464540366c1ce93de1e"
  },
  "kernelspec": {
   "display_name": "Python 3.7.3 64-bit ('3.7.3': pyenv)",
   "name": "python3"
  },
  "language_info": {
   "codemirror_mode": {
    "name": "ipython",
    "version": 3
   },
   "file_extension": ".py",
   "mimetype": "text/x-python",
   "name": "python",
   "nbconvert_exporter": "python",
   "pygments_lexer": "ipython3",
   "version": "3.7.3"
  }
 },
 "nbformat": 4,
 "nbformat_minor": 4
}
