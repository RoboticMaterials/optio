{
 "cells": [
  {
   "cell_type": "code",
   "execution_count": null,
   "metadata": {},
   "outputs": [],
   "source": []
  },
  {
   "cell_type": "markdown",
   "metadata": {},
   "source": [
    "# Imports"
   ]
  },
  {
   "cell_type": "code",
   "execution_count": 2,
   "metadata": {},
   "outputs": [],
   "source": [
    "from pymongo import MongoClient\n",
    "from pprint import pprint\n",
    "import time\n",
    "from IPython.display import clear_output\n",
    "import datetime as dt\n",
    "\n",
    "# import numpy as np\n",
    "import matplotlib.pyplot as plt\n",
    "import base64\n",
    "import cv2\n",
    "import copy\n",
    "import json\n",
    "import datetime\n",
    "\n",
    "client = MongoClient('localhost:27017')\n",
    "db = client.ContactDB\n",
    "task_queue_collection = db.task_queue\n",
    "schedules_collection = db.schedules\n",
    "objects_collection = db.objects\n",
    "stations_collection = db.stations\n",
    "positions_collection = db.positions\n",
    "poses_collection = db.poses\n",
    "dashboards_collection = db.dashboards\n",
    "skills_collection = db.skills\n",
    "skill_templates_collection = db.skill_templates\n",
    "status_collection = db.status\n",
    "devices_collection = db.devices\n",
    "sounds_collection = db.sounds\n",
    "tasks_collection = db.tasks\n",
    "settings_collection = db.settings\n",
    "task_analysis_collection = db.task_analysis\n",
    "images_collection = db.images\n",
    "site_maps_collection = db.site_maps\n",
    "processes_collection = db.processes\n",
    "events_collection = db.events"
   ]
  },
  {
   "cell_type": "code",
   "execution_count": 5,
   "metadata": {},
   "outputs": [
    {
     "data": {
      "text/plain": [
       "<pymongo.results.DeleteResult at 0x124ce6b08>"
      ]
     },
     "execution_count": 5,
     "metadata": {},
     "output_type": "execute_result"
    }
   ],
   "source": [
    "db.report_events.delete_many({})"
   ]
  },
  {
   "cell_type": "code",
   "execution_count": 11,
   "metadata": {},
   "outputs": [
    {
     "data": {
      "text/plain": [
       "<pymongo.results.DeleteResult at 0x13146cfc8>"
      ]
     },
     "execution_count": 11,
     "metadata": {},
     "output_type": "execute_result"
    }
   ],
   "source": [
    "db.site_maps.delete_many({})"
   ]
  },
  {
   "cell_type": "code",
   "execution_count": 12,
   "metadata": {},
   "outputs": [
    {
     "data": {
      "text/plain": [
       "<pymongo.results.InsertOneResult at 0x131410908>"
      ]
     },
     "execution_count": 12,
     "metadata": {},
     "output_type": "execute_result"
    }
   ],
   "source": [
    "m['_id'] = \"e0785c3d-e637-11ea-8661-94c691a739e9\"\n",
    "\n",
    "db.site_maps.insert_one(m)"
   ]
  },
  {
   "cell_type": "code",
   "execution_count": 8,
   "metadata": {},
   "outputs": [
    {
     "data": {
      "text/plain": [
       "<pymongo.results.DeleteResult at 0x12c42cf48>"
      ]
     },
     "execution_count": 8,
     "metadata": {},
     "output_type": "execute_result"
    }
   ],
   "source": [
    "db.stations.delete_many({})"
   ]
  },
  {
   "cell_type": "code",
   "execution_count": null,
   "metadata": {},
   "outputs": [],
   "source": [
    "# list the collections\n",
    "for coll in db.list_collection_names():\n",
    "    print(coll)"
   ]
  },
  {
   "cell_type": "markdown",
   "metadata": {},
   "source": [
    "# Cards"
   ]
  },
  {
   "cell_type": "code",
   "execution_count": 5,
   "metadata": {},
   "outputs": [
    {
     "data": {
      "text/plain": [
       "<pymongo.results.DeleteResult at 0x12c1738c8>"
      ]
     },
     "execution_count": 5,
     "metadata": {},
     "output_type": "execute_result"
    }
   ],
   "source": [
    "db.cards.delete_many({})"
   ]
  },
  {
   "cell_type": "code",
   "execution_count": null,
   "metadata": {},
   "outputs": [],
   "source": [
    "items = db.cards.find()\n",
    "for item in items:\n",
    "    pprint(item)\n",
    "# print(len(list(items)))"
   ]
  },
  {
   "cell_type": "markdown",
   "metadata": {},
   "source": [
    "# Card Events"
   ]
  },
  {
   "cell_type": "code",
   "execution_count": null,
   "metadata": {},
   "outputs": [],
   "source": [
    "items = db.card_histories.find()\n",
    "print(items.count())\n",
    "for item in items:\n",
    "    pprint(item)\n",
    "print(len(list(items)))"
   ]
  },
  {
   "cell_type": "code",
   "execution_count": 103,
   "metadata": {},
   "outputs": [
    {
     "name": "stdout",
     "output_type": "stream",
     "text": [
      "total 220\n",
      "date [datetime.date(2021, 6, 21), datetime.date(2021, 6, 22), datetime.date(2021, 6, 23), datetime.date(2021, 6, 24)]\n",
      "Total Working Time 118800.0\n",
      "Total qty 220\n",
      "Cycle Time 540.0\n"
     ]
    }
   ],
   "source": [
    "import pandas as pd\n",
    "import time\n",
    "\n",
    "station_id= \"8c9d655b-444a-4460-b21b-c8eb09f70d10\"\n",
    "\n",
    "events = list(db.events.find({'station':station_id}))\n",
    "settings = db.settings.find_one()\n",
    "# for item in settings:\n",
    "#     pprint(item)\n",
    "\n",
    "# Get Todays date\n",
    "today = datetime.datetime.now()\n",
    "# today = datetime.datetime.now().replace(hour=0, minute=0, second=0, microsecond=0)\n",
    "# today = datetime.datetime.now(tz)\n",
    "today_utc= datetime.datetime.timestamp(today)\n",
    "\n",
    "# Get the previous date\n",
    "prev_date = today + datetime.timedelta(days=-5, hours=0, minutes=0, seconds=0, microseconds=0)\n",
    "prev_date_utc = datetime.datetime.timestamp(prev_date)\n",
    "\n",
    "# Split list to outgoing events\n",
    "outgoing_events = []\n",
    "for event in events:\n",
    "    if event['outgoing'] == True:\n",
    "        outgoing_events.append(event)\n",
    "\n",
    "# Fetch data\n",
    "df = pd.DataFrame(outgoing_events)\n",
    "\n",
    "if len(df) > 0:\n",
    "    df = df.set_index('time')\n",
    "    \n",
    "    # Crop data\n",
    "    df = df[prev_date_utc : today_utc]\n",
    "    \n",
    "    # Get total quantity over the time period\n",
    "    total_quantity = 0\n",
    "    for qty in df['quantity']:\n",
    "        total_quantity += qty\n",
    "    print('total', total_quantity)\n",
    "    \n",
    "    # Reset Index (Not sure why this is needed, but you cant use time as property if the index is set to it)\n",
    "    df = df.reset_index()\n",
    "    \n",
    "    # Find unique dates to be used later\n",
    "    unique_dates = []\n",
    "    for timez in df['time']:\n",
    "        date = datetime.datetime.fromtimestamp(timez)\n",
    "        rounded_date = date.date()\n",
    "        if rounded_date not in unique_dates: unique_dates.append(rounded_date)\n",
    "    \n",
    "    print('date', unique_dates)\n",
    "        \n",
    "        \n",
    "    \n",
    "    shift_details = settings['shiftDetails']\n",
    "    \n",
    "    total_break_time = 0\n",
    "    \n",
    "    # Need to calculate the working time using shift details \n",
    "    breaks = shift_details['breaks'].values()\n",
    "    # For each break, calculate the length of the break in seconds and ad to total break time\n",
    "    for br in breaks:\n",
    "        if(br['enabled']):\n",
    "            startTime = time.strptime(br['startOfBreak'],'%H:%M')\n",
    "            startSecs = datetime.timedelta(hours=startTime.tm_hour,minutes=startTime.tm_min,seconds=startTime.tm_sec).total_seconds()\n",
    "            \n",
    "            endTime = time.strptime(br['endOfBreak'],'%H:%M')\n",
    "            endSecs = datetime.timedelta(hours=endTime.tm_hour,minutes=endTime.tm_min,seconds=endTime.tm_sec).total_seconds()\n",
    "            \n",
    "            break_length = endSecs-startSecs\n",
    "            \n",
    "            total_break_time += break_length\n",
    "    \n",
    "    start_of_shift = time.strptime(shift_details['startOfShift'],'%H:%M')\n",
    "    start_of_shift_secs = datetime.timedelta(hours=start_of_shift.tm_hour,minutes=start_of_shift.tm_min,seconds=start_of_shift.tm_sec).total_seconds()\n",
    "    \n",
    "    end_of_shift = time.strptime(shift_details['endOfShift'],'%H:%M')\n",
    "    end_of_shift_secs = datetime.timedelta(hours=end_of_shift.tm_hour,minutes=end_of_shift.tm_min,seconds=end_of_shift.tm_sec).total_seconds()\n",
    "    \n",
    "    # Total Working time in seconds\n",
    "    working_time = end_of_shift_secs - start_of_shift_secs - total_break_time\n",
    "        \n",
    "    # Take the working and multiply by the working days\n",
    "    total_working_time = working_time*len(unique_dates)\n",
    "        \n",
    "    # Cycle Time\n",
    "    cycle_time = total_working_time/total_quantity\n",
    "    \n",
    "\n",
    "    "
   ]
  },
  {
   "cell_type": "markdown",
   "metadata": {},
   "source": [
    "# Site Maps"
   ]
  },
  {
   "cell_type": "code",
   "execution_count": null,
   "metadata": {},
   "outputs": [],
   "source": [
    "items = site_maps_collection.find()\n",
    "\n",
    "for item in items:\n",
    "    pprint(item)"
   ]
  },
  {
   "cell_type": "code",
   "execution_count": null,
   "metadata": {},
   "outputs": [],
   "source": []
  },
  {
   "cell_type": "code",
   "execution_count": null,
   "metadata": {},
   "outputs": [],
   "source": [
    "print(robot.cart.get_map())"
   ]
  },
  {
   "cell_type": "code",
   "execution_count": null,
   "metadata": {},
   "outputs": [],
   "source": [
    "def hex_to_rgba(h, a=1):\n",
    "    h = h.strip('#')\n",
    "    return tuple(int(h[i:i+2], 16) for i in (0, 2, 4)) + (a,)\n",
    "\n",
    "def augment_map(site_map, show=False):\n",
    "    map_details = copy.copy(site_map)\n",
    "\n",
    "    meta = json.loads(base64.b64decode(map_details[\"metadata\"]).decode('utf-8'))\n",
    "\n",
    "    ## Decode floor\n",
    "    floor = np.fromstring(base64.b64decode(meta['base_map_floor']), np.uint8)\n",
    "    floor = cv2.imdecode(floor, cv2.IMREAD_UNCHANGED)\n",
    "    \n",
    "    rgb = cv2.cvtColor(floor, cv2.COLOR_BGRA2RGBA)\n",
    "    plt.figure(figsize=(30,30), facecolor='dimgrey')\n",
    "    ax = plt.gca()\n",
    "    ax.set_facecolor('dimgrey')\n",
    "    plt.imshow(rgb)\n",
    "    \n",
    "    print(floor.shape)\n",
    "    print(floor)\n",
    "    ## Decode walls\n",
    "    walls = np.fromstring(base64.b64decode(meta['base_map_walls']), np.uint8)\n",
    "    walls = cv2.imdecode(walls, cv2.IMREAD_UNCHANGED)\n",
    "    \n",
    "    rgb = cv2.cvtColor(walls, cv2.COLOR_BGRA2RGBA)\n",
    "    plt.figure(figsize=(30,30), facecolor='dimgrey')\n",
    "    ax = plt.gca()\n",
    "    ax.set_facecolor('dimgrey')\n",
    "    plt.imshow(rgb)\n",
    "\n",
    "    ## Set the image at the walls to transparent\n",
    "    floor[np.where(walls[...,3])] = (0,0,0)\n",
    "    \n",
    "    image = floor\n",
    "    \n",
    "    ## Add polygons for walls\n",
    "    wall_shapes = meta['layers']['walls']['shapes']\n",
    "    for shape in wall_shapes:  # For each polygon, draw an outline, and fill \n",
    "        contour = np.array([[point['x'],point['y']] for point in shape['polygon']])\n",
    "        cv2.drawContours(image, [contour], 0, hex_to_rgba(shape['color']), int(shape['brushsize']), lineType=cv2.LINE_4)\n",
    "    \n",
    "    ## Add polygons for floor\n",
    "    floor_shapes = meta['layers']['floor']['shapes']\n",
    "    for shape in floor_shapes:  # For each polygon, draw an outline, and fill \n",
    "        contour = np.array([[point['x'],point['y']] for point in shape['polygon']])\n",
    "#         cv2.drawContours(image, [contour], 0, (0, 0, 255), thickness=cv2.FILLED)\n",
    "        cv2.fillPoly(image, [contour],(255,255,255,255))\n",
    "\n",
    "    ## Blur the image slightly and filter out low opacity. This acts as a high-pass filter\n",
    "    ## to denoise the image\n",
    "    blur = cv2.GaussianBlur(image,(3,3), 0)\n",
    "    white_thresh = 160\n",
    "\n",
    "    blur_mask = (blur < (white_thresh, white_thresh, white_thresh, 255)).all(axis=2)\n",
    "    image[np.where(blur_mask)] = (0,0,0,0)\n",
    "        \n",
    "    \n",
    "    # Draw diagonal hashes that will be masked in for zones\n",
    "    # This basically makes an identity matrix and moves it across the image to create a \n",
    "    # striped effect. This will later be masked to the appropriate areas\n",
    "    zone = image.copy()\n",
    "    stripe = np.hstack((np.zeros((image.shape[0], image.shape[0])), np.eye(image.shape[0]), np.zeros((image.shape[0], image.shape[0]))))\n",
    "    for offset in range(0, 2*image.shape[0], 20): # Last param is line offset distance\n",
    "        for th in range(12): # Line thickeness\n",
    "            zone[np.where(stripe[:, offset+th:offset+th + image.shape[1]])] = (0,150,255,255)\n",
    "    zone = np.array(zone, dtype=np.uint8)\n",
    "\n",
    "    zone = cv2.GaussianBlur( zone, (5,5), 0)\n",
    "\n",
    "    ## Add Polygons for Forbidden Zones\n",
    "    forbidden_shapes = meta['layers']['areaprefs_forbidden']['shapes']\n",
    "    forbidden_zones = image.copy()\n",
    "    forbidden_zone_mask = np.zeros(image.shape[:2])\n",
    "    for shape in forbidden_shapes:  # For each polygon, draw an outline, and fill a mask within that polygon to be used for masking the stripes\n",
    "        contour = np.array([[point['x'],point['y']] for point in shape['polygon']])\n",
    "        cv2.drawContours(forbidden_zone_mask, [contour], 0, (1), -1)\n",
    "        cv2.drawContours(forbidden_zones, [contour], 0, (0,150,255,255), 4, lineType=cv2.LINE_AA)\n",
    "    forbidden_zones[np.where(forbidden_zone_mask)] = zone[np.where(forbidden_zone_mask)]    # Use those masks to add in the stripes\n",
    "    \n",
    "    image = cv2.addWeighted(forbidden_zones, 0.2, image, 0.8, 0)    # Combine the original image with the striped image\n",
    "    \n",
    "\n",
    "    \n",
    "    if show:\n",
    "        rgb = cv2.cvtColor(image, cv2.COLOR_BGRA2RGBA)\n",
    "        plt.figure(figsize=(30,30), facecolor='dimgrey')\n",
    "        ax = plt.gca()\n",
    "        ax.set_facecolor('dimgrey')\n",
    "        plt.imshow(rgb)\n",
    "\n",
    "    ## Re-encode the image\n",
    "    retval, buffer = cv2.imencode('.png', image)\n",
    "    map_details['map'] = base64.b64encode(buffer).decode(\"utf-8\")\n",
    "\n",
    "    return map_details"
   ]
  },
  {
   "cell_type": "code",
   "execution_count": null,
   "metadata": {},
   "outputs": [],
   "source": []
  },
  {
   "cell_type": "code",
   "execution_count": null,
   "metadata": {},
   "outputs": [],
   "source": [
    "site_maps_collection.delete_many({})\n",
    "# site_maps_collection.insert_one(map_1)"
   ]
  },
  {
   "cell_type": "code",
   "execution_count": null,
   "metadata": {},
   "outputs": [],
   "source": [
    "items = site_maps_collection.find()\n",
    "\n",
    "for item in items:\n",
    "    pprint(item)"
   ]
  },
  {
   "cell_type": "code",
   "execution_count": null,
   "metadata": {},
   "outputs": [],
   "source": [
    "map_2 = robot.cart.get_map()\n",
    "map_2['_id'] = 'e0785c3d-e637-11ea-8661-94c691a739e9'\n",
    "\n",
    "map_1['map'] = map_2['map']\n",
    "map_1['metadata'] = map_2['metadata']\n",
    "\n",
    "# map_3 = augment_map(map_1, show=True)\n",
    "\n",
    "site_maps_collection.delete_many({})\n",
    "site_maps_collection.insert_one(map_1)"
   ]
  },
  {
   "cell_type": "markdown",
   "metadata": {
    "toc-hr-collapsed": true,
    "toc-nb-collapsed": true
   },
   "source": [
    "## Clear Skills"
   ]
  },
  {
   "cell_type": "code",
   "execution_count": null,
   "metadata": {},
   "outputs": [],
   "source": [
    "skills_collection.delete_many({})"
   ]
  },
  {
   "cell_type": "markdown",
   "metadata": {},
   "source": [
    "## Print Skills"
   ]
  },
  {
   "cell_type": "code",
   "execution_count": null,
   "metadata": {},
   "outputs": [],
   "source": [
    "skills = skills_collection.find()\n",
    "\n",
    "for skill in skills:\n",
    "    pprint(skill)"
   ]
  },
  {
   "cell_type": "code",
   "execution_count": null,
   "metadata": {},
   "outputs": [],
   "source": [
    "{'station': '5e6bd1b13cff3230a4f5e1d5',\n",
    "'object': '5ea9e479fce58cb018e05b51',\n",
    "'quantity': 1,\n",
    "'type': 'object_at_station'}"
   ]
  },
  {
   "cell_type": "markdown",
   "metadata": {},
   "source": [
    "## Add skills to database"
   ]
  },
  {
   "cell_type": "code",
   "execution_count": null,
   "metadata": {},
   "outputs": [],
   "source": [
    "skills_collection.delete_many({})\n",
    "\n",
    "new_skill_list = [\n",
    "    {\n",
    "        'name' : 'Proto Skill',\n",
    "        'template' : 'prototype',\n",
    "        'preconditions' : [ ],\n",
    "        'postconditions' : [{'key': '0LtZXEIqIbhFnfSq', 'type': 'hil_complete'}],\n",
    "        'parameters' : {}\n",
    "\n",
    "    }\n",
    "]\n",
    "\n",
    "for skill in new_skill_list:\n",
    "    skills_collection.insert_one(skill)"
   ]
  },
  {
   "cell_type": "markdown",
   "metadata": {},
   "source": [
    "## Add condition to task queue"
   ]
  },
  {
   "cell_type": "code",
   "execution_count": null,
   "metadata": {},
   "outputs": [],
   "source": [
    "# task_queue_collection.delete_many({})\n",
    "\n",
    "condition = {\n",
    "    'type': 'stack_key',\n",
    "    'key' : '4'\n",
    "}\n",
    "task_queue_collection.insert_one(condition)\n",
    "\n",
    "condition = {\n",
    "    'type': 'stack_key',\n",
    "    'key' : '2'\n",
    "}\n",
    "task_queue_collection.insert_one(condition)\n"
   ]
  },
  {
   "cell_type": "code",
   "execution_count": null,
   "metadata": {},
   "outputs": [],
   "source": [
    "condition = {\n",
    "    'type': 'stack_key',\n",
    "    'key' : '4'\n",
    "}\n",
    "task_queue_collection.insert_one(condition)"
   ]
  },
  {
   "cell_type": "code",
   "execution_count": null,
   "metadata": {},
   "outputs": [],
   "source": [
    "condition = {\n",
    "    'key' : '2',\n",
    "    'type': 'stack_key',\n",
    "}\n",
    "task_queue_collection.insert_one(condition)"
   ]
  },
  {
   "cell_type": "code",
   "execution_count": null,
   "metadata": {},
   "outputs": [],
   "source": [
    "condition = {\n",
    "    'type': 'stack_key',\n",
    "    'key' : '5'\n",
    "}\n",
    "task_queue_collection.insert_one(condition)"
   ]
  },
  {
   "cell_type": "code",
   "execution_count": null,
   "metadata": {},
   "outputs": [],
   "source": [
    "condition = {\n",
    "    'type': 'stack_key',\n",
    "    'key' : '8'\n",
    "}\n",
    "task_queue_collection.insert_one(condition)"
   ]
  },
  {
   "cell_type": "markdown",
   "metadata": {},
   "source": [
    "## Print Skill Templates"
   ]
  },
  {
   "cell_type": "code",
   "execution_count": null,
   "metadata": {},
   "outputs": [],
   "source": [
    "items = skill_templates_collection.find()\n",
    "\n",
    "for item in items:\n",
    "    pprint(item)"
   ]
  },
  {
   "cell_type": "markdown",
   "metadata": {},
   "source": [
    "# Schedules"
   ]
  },
  {
   "cell_type": "markdown",
   "metadata": {},
   "source": [
    "## Clear Schedules"
   ]
  },
  {
   "cell_type": "code",
   "execution_count": null,
   "metadata": {},
   "outputs": [],
   "source": [
    "schedules_collection.delete_many({})"
   ]
  },
  {
   "cell_type": "code",
   "execution_count": null,
   "metadata": {},
   "outputs": [],
   "source": [
    "schedules = schedules_collection.find()\n",
    "\n",
    "for schedule in schedules:\n",
    "    pprint(schedule)"
   ]
  },
  {
   "cell_type": "code",
   "execution_count": null,
   "metadata": {},
   "outputs": [],
   "source": [
    "from bson.objectid import ObjectId"
   ]
  },
  {
   "cell_type": "code",
   "execution_count": null,
   "metadata": {},
   "outputs": [],
   "source": [
    "schedules_collection.update_one({'_id' : ObjectId('5fb2f7c0a0f7ce6983de7162')}, {\"$set\": {'schedule_on': True}})"
   ]
  },
  {
   "cell_type": "markdown",
   "metadata": {},
   "source": [
    "## Add Schedule"
   ]
  },
  {
   "cell_type": "code",
   "execution_count": null,
   "metadata": {},
   "outputs": [],
   "source": [
    "schedule = { \n",
    "    \"days_on\": {\n",
    "        \"friday\": True,\n",
    "        \"monday\": True, \n",
    "        \"saturday\": True, \n",
    "        \"sunday\": True, \n",
    "        \"thursday\": True, \n",
    "        \"tuesday\": False, \n",
    "        \"wednesday\": True},\n",
    "    \"interval_on\": True,\n",
    "    \"schedule_on\": False, \n",
    "    \"condition\": {\n",
    "        'type': 'stack_key',\n",
    "        'key' : '4'\n",
    "    },\n",
    "    \"start_time\": \"16:06:00\", \n",
    "    \"stop_time\": \"16:20:00\",\n",
    "    \"task_id\": \"string\", \n",
    "    \"time_interval\": '00:00:10'\n",
    "}\n",
    "\n",
    "schedules_collection.insert_one(schedule)"
   ]
  },
  {
   "cell_type": "markdown",
   "metadata": {},
   "source": [
    "# Positions"
   ]
  },
  {
   "cell_type": "code",
   "execution_count": null,
   "metadata": {},
   "outputs": [],
   "source": [
    "# status = {\n",
    "#     'change_key' : 'unchanged'\n",
    "# }\n",
    "# positions_collection.update_many({},  { \"$set\": status})"
   ]
  },
  {
   "cell_type": "code",
   "execution_count": null,
   "metadata": {},
   "outputs": [],
   "source": [
    "# positions_collection.delete_many({})"
   ]
  },
  {
   "cell_type": "code",
   "execution_count": null,
   "metadata": {},
   "outputs": [],
   "source": [
    "rm_positions = list(positions_collection.find())\n",
    "for i in rm_positions: pprint(i)"
   ]
  },
  {
   "cell_type": "markdown",
   "metadata": {},
   "source": [
    "## MiR Positions"
   ]
  },
  {
   "cell_type": "code",
   "execution_count": null,
   "metadata": {},
   "outputs": [],
   "source": [
    "path = 'dev_rmstudio/rmlib'\n",
    "import sys\n",
    "sys.path.append(\"/home/nvidia/\"+path)\n",
    "import rmlib.robot\n",
    "\n",
    "# Restart notebook before running cell\n",
    "config = {\n",
    "    'active_components' : {\n",
    "        'camera' : [],\n",
    "        'hand' : [],\n",
    "        'arm' : [],\n",
    "        'cart' : ['my_component'],\n",
    "    },\n",
    "    'my_components' : {\n",
    "        'my_component' : {\n",
    "            \"module_name\" : \"carts.mir100\",\n",
    "            \"class_name\" : \"Mir_Cart\",\n",
    "            \"ip_address\" : '10.1.10.12'\n",
    "        },\n",
    "    },\n",
    "}\n",
    "robot = rmlib.robot.Robot(config)"
   ]
  },
  {
   "cell_type": "code",
   "execution_count": null,
   "metadata": {},
   "outputs": [],
   "source": [
    "robot.cart.get_positions()"
   ]
  },
  {
   "cell_type": "code",
   "execution_count": null,
   "metadata": {},
   "outputs": [],
   "source": [
    "robot.cart.get_state()"
   ]
  },
  {
   "cell_type": "code",
   "execution_count": null,
   "metadata": {},
   "outputs": [],
   "source": [
    "robot.cart.get_status()"
   ]
  },
  {
   "cell_type": "markdown",
   "metadata": {},
   "source": [
    "## Sync Positions"
   ]
  },
  {
   "cell_type": "code",
   "execution_count": null,
   "metadata": {},
   "outputs": [],
   "source": [
    "def rm_position_to_mir_position(rm_position, map_id):\n",
    "    mir_position = {\n",
    "            \"guid\": rm_position['_id'],\n",
    "            \"name\": rm_position['name'],\n",
    "            \"pos_x\": rm_position['pos_x'],\n",
    "            \"pos_y\": rm_position['pos_y'],\n",
    "            \"orientation\": rm_position['rotation'],\n",
    "            \"type_id\": 0,\n",
    "            \"map_id\": map_id,\n",
    "            \"parent_id\": None,\n",
    "            'change_key' : 'unchanged' \n",
    "        }   \n",
    "    return mir_position\n",
    "\n",
    "def mir_position_to_rm_position(mir_position):\n",
    "    rm_position  = {\n",
    "        '_id' : mir_position['guid'],\n",
    "        'name': mir_position['name'],\n",
    "        'schema': 'position',\n",
    "        'type': 'cart_position', \n",
    "        'pos_x': mir_position['pos_x'], \n",
    "        'pos_y': mir_position['pos_y'], \n",
    "        'rotation': mir_position['orientation'], \n",
    "        'parent': None,\n",
    "        'change_key' : 'unchanged'\n",
    "    }\n",
    "    return rm_position"
   ]
  },
  {
   "cell_type": "code",
   "execution_count": null,
   "metadata": {},
   "outputs": [],
   "source": [
    "while(1):\n",
    "    # Get mir status\n",
    "    mir_status = robot.cart.get_status() \n",
    "\n",
    "    # Copy all changes from rmstudio to mir cart\n",
    "    rm_positions = list(positions_collection.find())\n",
    "    rm_id_list = []\n",
    "    for rm_position in rm_positions:\n",
    "        if 'change_key' in rm_position:\n",
    "            rm_id_list.append(rm_position['_id'])\n",
    "            if rm_position['change_key'] == 'changed':\n",
    "                # Update mir\n",
    "                print('Updating cart position:', rm_position['name'])\n",
    "                mir_position = rm_position_to_mir_position(rm_position, mir_status['map_id'])\n",
    "                print(robot.cart.put_position(mir_position, rm_position['_id']))\n",
    "\n",
    "                # Update change status\n",
    "                change_key = {'change_key' : 'unchanged'}\n",
    "                positions_collection.update_one({'_id' : rm_position['_id']}, { \"$set\": change_key}, upsert=True)\n",
    "\n",
    "            elif rm_position['change_key'] == 'deleted':\n",
    "                # Update mir\n",
    "                print('Deleting cart position:', rm_position['name'])\n",
    "                print(robot.cart.delete_position(rm_position['_id']))\n",
    "\n",
    "                positions_collection.delete_one({'_id' : rm_position['_id']})\n",
    "                \n",
    "            elif rm_position['change_key'] == 'new':\n",
    "                # Update mir\n",
    "                print('Adding new cart position:', rm_position['name'])\n",
    "                mir_position = rm_position_to_mir_position(rm_position, mir_status['map_id'])\n",
    "                print(robot.cart.post_position(mir_position))\n",
    "                \n",
    "                # update change status\n",
    "                change_key = {'change_key' : 'unchanged'}\n",
    "                positions_collection.update_one({'_id' : rm_position['_id']}, { \"$set\": change_key}, upsert=True)\n",
    "\n",
    "\n",
    "        else:\n",
    "            # update change status\n",
    "            print('Setting to new')\n",
    "            change_key = {'change_key' : 'new'}\n",
    "            positions_collection.update_one({'_id' : rm_position['_id']}, { \"$set\": change_key}, upsert=True)       \n",
    "\n",
    "    # Copy all changes from mir to rmstudio\n",
    "    mir_positions = robot.cart.get_positions()\n",
    "    mir_id_list = []\n",
    "    for mir_position in mir_positions: \n",
    "        mir_id_list.append(mir_position['guid'])\n",
    "        rm_position = mir_position_to_rm_position(mir_position)\n",
    "        positions_collection.update_one({'_id' : mir_position['guid']}, {\"$set\" : rm_position}, upsert=True)\n",
    "\n",
    "    for rm_id in rm_id_list:\n",
    "        if rm_id not in mir_id_list:\n",
    "            # update change status\n",
    "            positions_collection.delete_one({'_id' : rm_id})\n",
    "            \n",
    "    time.sleep(5)\n",
    "        \n",
    "\n",
    "        "
   ]
  },
  {
   "cell_type": "code",
   "execution_count": null,
   "metadata": {},
   "outputs": [],
   "source": [
    "rm_positions = list(positions_collection.find())\n",
    "mir_positions = robot.cart.get_positions()\n",
    "mir_status = robot.cart.get_status()\n",
    "mir_id_list = []\n",
    "for mir_position in mir_positions:\n",
    "    new_position  = {\n",
    "        '_id' : mir_position['guid'],\n",
    "        'name': mir_position['name'],\n",
    "        'schema': 'position',\n",
    "        'type': 'cart_position', \n",
    "        'pos_x': mir_position['pos_x'], \n",
    "        'pos_y': mir_position['pos_y'], \n",
    "        'rotation': mir_position['orientation'], \n",
    "        'parent': None,\n",
    "    }\n",
    "\n",
    "    mir_id_list.append(mir_position['guid'])\n",
    "    \n",
    "    positions_collection.update_one({'_id' : mir_position['guid']}, { \"$set\": new_position}, upsert=True)\n",
    "\n",
    "\n",
    "for rm_position in rm_positions:\n",
    "    print(rm_position)\n",
    "    if rm_position['_id'] not in mir_id_list:\n",
    "        print('adding position', rm_position['name'])\n",
    "        position = {\n",
    "            \"guid\": rm_position['_id'],\n",
    "            \"name\": rm_position['name'],\n",
    "            \"pos_x\": rm_position['pos_x'],\n",
    "            \"pos_y\": rm_position['pos_y'],\n",
    "            \"orientation\": rm_position['rotation'],\n",
    "            \"type_id\": 0,\n",
    "            \"map_id\": mir_status['map_id'],\n",
    "            \"parent_id\": None,\n",
    "        }\n",
    "        print(robot.cart.post_position(position))\n",
    "    "
   ]
  },
  {
   "cell_type": "markdown",
   "metadata": {},
   "source": [
    "# Stations"
   ]
  },
  {
   "cell_type": "code",
   "execution_count": null,
   "metadata": {},
   "outputs": [],
   "source": [
    "# stations_collection.delete_many({})"
   ]
  },
  {
   "cell_type": "code",
   "execution_count": null,
   "metadata": {},
   "outputs": [],
   "source": [
    "# stations_collection.delete_many({'name':'T'})"
   ]
  },
  {
   "cell_type": "code",
   "execution_count": null,
   "metadata": {},
   "outputs": [],
   "source": [
    "items = stations_collection.find()\n",
    "\n",
    "for item in items:\n",
    "    pprint(item)"
   ]
  },
  {
   "cell_type": "code",
   "execution_count": null,
   "metadata": {},
   "outputs": [],
   "source": []
  },
  {
   "cell_type": "markdown",
   "metadata": {},
   "source": [
    "# Processes"
   ]
  },
  {
   "cell_type": "code",
   "execution_count": null,
   "metadata": {},
   "outputs": [],
   "source": [
    "processes_collection.delete_many({})"
   ]
  },
  {
   "cell_type": "code",
   "execution_count": null,
   "metadata": {},
   "outputs": [],
   "source": [
    "rm_positions = list(processes_collection.find())\n",
    "for i in rm_positions: pprint(i)"
   ]
  },
  {
   "cell_type": "markdown",
   "metadata": {},
   "source": [
    "# Objects"
   ]
  },
  {
   "cell_type": "code",
   "execution_count": null,
   "metadata": {},
   "outputs": [],
   "source": [
    "items = objects_collection.find()\n",
    "\n",
    "for item in items:\n",
    "    pprint(item)"
   ]
  },
  {
   "cell_type": "code",
   "execution_count": null,
   "metadata": {},
   "outputs": [],
   "source": [
    "objects_collection.delete_many({})"
   ]
  },
  {
   "cell_type": "markdown",
   "metadata": {},
   "source": [
    "# Sounds "
   ]
  },
  {
   "cell_type": "code",
   "execution_count": null,
   "metadata": {},
   "outputs": [],
   "source": [
    "sounds_collection.delete_many({})"
   ]
  },
  {
   "cell_type": "code",
   "execution_count": null,
   "metadata": {},
   "outputs": [],
   "source": [
    "update_sounds(['s1','s4','s13'])"
   ]
  },
  {
   "cell_type": "code",
   "execution_count": null,
   "metadata": {},
   "outputs": [],
   "source": [
    "def update_sounds(sounds):\n",
    "    mongo_name_list = []\n",
    "    # Delete old sounds\n",
    "    mongo_sounds = list(sounds_collection.find())\n",
    "    for sound in mongo_sounds:\n",
    "        if sound['name'] not in sounds:\n",
    "            sounds_collection.delete_one({'_id' : sound['_id']})\n",
    "        mongo_name_list.append(sound['name'])\n",
    "    \n",
    "    # Add new sounds\n",
    "    for sound in sounds:\n",
    "        if sound not in mongo_name_list:\n",
    "            new_sound = {\n",
    "                'name': sound,\n",
    "            }\n",
    "            sounds_collection.insert_one(new_sound)  "
   ]
  },
  {
   "cell_type": "code",
   "execution_count": null,
   "metadata": {},
   "outputs": [],
   "source": [
    "skills = sounds_collection.find()\n",
    "\n",
    "for skill in skills:\n",
    "    pprint(skill)"
   ]
  },
  {
   "cell_type": "markdown",
   "metadata": {},
   "source": [
    "# Status"
   ]
  },
  {
   "cell_type": "code",
   "execution_count": null,
   "metadata": {},
   "outputs": [],
   "source": [
    "# status = status_collection.delete_many({})"
   ]
  },
  {
   "cell_type": "code",
   "execution_count": null,
   "metadata": {},
   "outputs": [],
   "source": [
    "while(True):\n",
    "    status = status_collection.find()\n",
    "    clear_output()\n",
    "    for i in status:\n",
    "        pprint(i)\n",
    "    time.sleep(5)"
   ]
  },
  {
   "cell_type": "code",
   "execution_count": null,
   "metadata": {},
   "outputs": [],
   "source": [
    "status = status_collection.find()\n",
    "clear_output()\n",
    "for i in status:\n",
    "    pprint(i)\n"
   ]
  },
  {
   "cell_type": "code",
   "execution_count": null,
   "metadata": {},
   "outputs": [],
   "source": [
    "status = status_collection.delete_many({})\n",
    "status = {\n",
    "    'mir_connection' : 'connecting', \n",
    "    'pause_status' : False,\n",
    "    'active_map' :  None,\n",
    "}\n",
    "\n",
    "status_collection.insert_one(status)"
   ]
  },
  {
   "cell_type": "code",
   "execution_count": null,
   "metadata": {},
   "outputs": [],
   "source": [
    "status = status_collection.delete_many({})\n",
    "status = {\n",
    "    'cart_battery': 10.0,\n",
    "    'current_task': None,\n",
    "    'distance_to_next_target': 0.0,\n",
    "    'hil_dashboard_id': None,\n",
    "    'hil_message': 'Load Cart',\n",
    "    'hil_response': None,\n",
    "    'hil_start_time': 1581987605.035828,\n",
    "    'hil_timeout': 5,\n",
    "    'pause_status': True\n",
    "}\n",
    "\n",
    "status_collection.insert_one(status)"
   ]
  },
  {
   "cell_type": "markdown",
   "metadata": {},
   "source": [
    "# Devices"
   ]
  },
  {
   "cell_type": "code",
   "execution_count": null,
   "metadata": {},
   "outputs": [],
   "source": [
    "items = devices_collection.find()\n",
    "for item in items:\n",
    "    pprint(item)"
   ]
  },
  {
   "cell_type": "code",
   "execution_count": null,
   "metadata": {},
   "outputs": [],
   "source": [
    "status = {\n",
    "    'current_task' : 'aabb'\n",
    "}\n",
    "devices_collection.update_one({},  { \"$set\": status})"
   ]
  },
  {
   "cell_type": "code",
   "execution_count": null,
   "metadata": {},
   "outputs": [],
   "source": [
    "devices_collection.delete_many({})"
   ]
  },
  {
   "cell_type": "markdown",
   "metadata": {},
   "source": [
    "# Tasks"
   ]
  },
  {
   "cell_type": "code",
   "execution_count": null,
   "metadata": {},
   "outputs": [],
   "source": [
    "status = {\n",
    "    'handoff' : False\n",
    "}\n",
    "tasks_collection.update_many({},  { \"$set\": status})"
   ]
  },
  {
   "cell_type": "code",
   "execution_count": null,
   "metadata": {},
   "outputs": [],
   "source": [
    "# tasks_collection.delete_many({})"
   ]
  },
  {
   "cell_type": "code",
   "execution_count": null,
   "metadata": {},
   "outputs": [],
   "source": [
    "items = tasks_collection.find()\n",
    "\n",
    "for item in items:\n",
    "    pprint(item)"
   ]
  },
  {
   "cell_type": "markdown",
   "metadata": {},
   "source": [
    "# Dashboards"
   ]
  },
  {
   "cell_type": "markdown",
   "metadata": {},
   "source": [
    "## Clear Dashboards"
   ]
  },
  {
   "cell_type": "code",
   "execution_count": null,
   "metadata": {},
   "outputs": [],
   "source": [
    "dashboards_collection.delete_many({})"
   ]
  },
  {
   "cell_type": "code",
   "execution_count": null,
   "metadata": {},
   "outputs": [],
   "source": [
    "dashboards_collection.delete_many({'name':'MiR_R1319 Dashboard'})"
   ]
  },
  {
   "cell_type": "markdown",
   "metadata": {},
   "source": [
    "## Print Dashboards"
   ]
  },
  {
   "cell_type": "code",
   "execution_count": null,
   "metadata": {},
   "outputs": [],
   "source": [
    "dashboards = dashboards_collection.find()\n",
    "# len(list(dashboards))\n",
    "for dashboard in dashboards:\n",
    "    print(dashboard)"
   ]
  },
  {
   "cell_type": "code",
   "execution_count": null,
   "metadata": {},
   "outputs": [],
   "source": []
  },
  {
   "cell_type": "code",
   "execution_count": null,
   "metadata": {
    "toc-hr-collapsed": true,
    "toc-nb-collapsed": true
   },
   "outputs": [],
   "source": [
    "# Tasks"
   ]
  },
  {
   "cell_type": "code",
   "execution_count": null,
   "metadata": {},
   "outputs": [],
   "source": []
  },
  {
   "cell_type": "code",
   "execution_count": null,
   "metadata": {},
   "outputs": [],
   "source": []
  },
  {
   "cell_type": "code",
   "execution_count": null,
   "metadata": {},
   "outputs": [],
   "source": [
    "import uuid"
   ]
  },
  {
   "cell_type": "code",
   "execution_count": null,
   "metadata": {},
   "outputs": [],
   "source": [
    "print(uuid.uuid1())\n",
    "print(uuid.uuid1())"
   ]
  },
  {
   "cell_type": "code",
   "execution_count": null,
   "metadata": {},
   "outputs": [],
   "source": [
    "items = tasks_collection.find()\n",
    "\n",
    "for item in items:\n",
    "    pprint(item)"
   ]
  },
  {
   "cell_type": "code",
   "execution_count": null,
   "metadata": {},
   "outputs": [],
   "source": [
    "print(tasks_collection.find_one({'_id':ob}))"
   ]
  },
  {
   "cell_type": "code",
   "execution_count": null,
   "metadata": {},
   "outputs": [],
   "source": [
    "tasks_collection.delete_many({'saved':False})"
   ]
  },
  {
   "cell_type": "code",
   "execution_count": null,
   "metadata": {},
   "outputs": [],
   "source": [
    "tasks_collection.delete_many({})"
   ]
  },
  {
   "cell_type": "markdown",
   "metadata": {},
   "source": [
    "# Task Queue"
   ]
  },
  {
   "cell_type": "code",
   "execution_count": null,
   "metadata": {},
   "outputs": [],
   "source": [
    "items = task_queue_collection.find()\n",
    "\n",
    "for item in items:\n",
    "    pprint(item)"
   ]
  },
  {
   "cell_type": "markdown",
   "metadata": {},
   "source": [
    "## Clear Task Queue"
   ]
  },
  {
   "cell_type": "code",
   "execution_count": null,
   "metadata": {},
   "outputs": [],
   "source": [
    "task_queue_collection.delete_many({})"
   ]
  },
  {
   "cell_type": "markdown",
   "metadata": {},
   "source": [
    "# Task Analysis"
   ]
  },
  {
   "cell_type": "code",
   "execution_count": null,
   "metadata": {},
   "outputs": [],
   "source": [
    "task_analysis_collection.delete_many({})"
   ]
  },
  {
   "cell_type": "code",
   "execution_count": null,
   "metadata": {},
   "outputs": [],
   "source": [
    "items = task_analysis_collection.find()\n",
    "\n",
    "for item in items:\n",
    "    pprint(item)"
   ]
  },
  {
   "cell_type": "code",
   "execution_count": null,
   "metadata": {},
   "outputs": [],
   "source": [
    "def calc_task_stats(task_id):\n",
    "    stats = {}\n",
    "    items = list(task_analysis_collection.find({'task_id':task_id}))\n",
    "#     print('Task Name:', items[0]['task_name'])\n",
    "#     print('Task ID:', items[0]['task_id'])\n",
    "    num_of_items = len(items)\n",
    "#     print('Times Run:',num_of_items)\n",
    "    time_sum = 0\n",
    "    success_count = 0\n",
    "    fail_count = 0\n",
    "    for item in items:\n",
    "        ex_time = (item['stop_time'] - item['start_time']).total_seconds()\n",
    "        time_sum += ex_time\n",
    "        if item['success']:\n",
    "            success_count += 1\n",
    "        else:\n",
    "            fail_count += 1\n",
    "    time_avg = time_sum/num_of_items\n",
    "#     print('Avg Time:', round(time_avg),'sec.')\n",
    "#     print('Successes', success_count)\n",
    "#     print('Failures', fail_count)\n",
    "#     print()\n",
    "    stats = {'task_name' : items[0]['task_name'],\n",
    "             'taks_id' : items[0]['task_id'],\n",
    "             'times_run' : num_of_items, \n",
    "             'avg_run_time' : round(time_avg),\n",
    "             'successes' : success_count,\n",
    "             'failures' : fail_count,\n",
    "            }\n",
    "    return stats\n",
    "\n",
    "def all_task_stats():\n",
    "    id_list = task_analysis_collection.distinct('task_id')\n",
    "    stats_list = []\n",
    "    for _id in id_list:\n",
    "        stats_list.append(calc_task_stats(_id))\n",
    "    return stats_list"
   ]
  },
  {
   "cell_type": "code",
   "execution_count": null,
   "metadata": {},
   "outputs": [],
   "source": [
    "all_task_stats()"
   ]
  },
  {
   "cell_type": "markdown",
   "metadata": {},
   "source": [
    "# Settings"
   ]
  },
  {
   "cell_type": "markdown",
   "metadata": {},
   "source": [
    "## Print Settings"
   ]
  },
  {
   "cell_type": "code",
   "execution_count": null,
   "metadata": {},
   "outputs": [],
   "source": [
    "# Clear Settings\n",
    "settings_collection.delete_many({})"
   ]
  },
  {
   "cell_type": "code",
   "execution_count": null,
   "metadata": {},
   "outputs": [],
   "source": [
    "setting = settings_collection.find_one({})\n",
    "pprint(setting)"
   ]
  },
  {
   "cell_type": "code",
   "execution_count": null,
   "metadata": {},
   "outputs": [],
   "source": [
    "settings = {\n",
    "    'api_ip': '10.1.12.70',\n",
    "    'local_api': True,\n",
    "    'loggers': {'All': False,\n",
    "             'Api': False,\n",
    "             'Dashboards': False,\n",
    "             'ModelViewer': False,\n",
    "             'Objects': False,\n",
    "             'ReduxLogger': False,\n",
    "             'Scheduler': False,\n",
    "             'Tasks': False},\n",
    "    'mir_ip': '10.1.10.35',\n",
    "    'muteAll': False,\n",
    "    'non_local_api': True\n",
    "}\n",
    "\n",
    "# Clear Settings\n",
    "settings_collection.delete_many({})\n",
    "settings_collection.insert_one(settings)"
   ]
  },
  {
   "cell_type": "markdown",
   "metadata": {},
   "source": [
    "# Events"
   ]
  },
  {
   "cell_type": "code",
   "execution_count": null,
   "metadata": {},
   "outputs": [],
   "source": [
    "# events_collection.delete_many({})"
   ]
  },
  {
   "cell_type": "code",
   "execution_count": null,
   "metadata": {},
   "outputs": [],
   "source": [
    "items = db.events.find()\n",
    "\n",
    "for item in items:\n",
    "    pprint(item)"
   ]
  },
  {
   "cell_type": "code",
   "execution_count": null,
   "metadata": {},
   "outputs": [],
   "source": [
    "def calc_station_stats(station_id, timespan):\n",
    "\n",
    "\n",
    "def calc_day_stats(events, index=0):\n",
    "    today = datetime.now()\n",
    "    start = today.replace(hour=0, minute=0, second=0, microsecond=0)\n",
    "    end = start + timedelta(1)\n",
    "    start = time.mktime(start.timetuple())\n",
    "    end = time.mktime(end.timetuple())\n",
    "\n",
    "#     now = datetime.now()\n",
    "#     time_at_start_of_today_local = datetime( now.year, now.month, now.day )\n",
    "#     lower_range = time.mktime(time_at_start_of_today_local.timetuple())\n",
    "#     upper_range = 24*3600+lower_range\n",
    "    time_range = (start, end)\n",
    "    \n",
    "    # Plot outgoing events\n",
    "    times = []\n",
    "    for event in events:\n",
    "        if start < event['time'] and event['time'] < end:\n",
    "            for i in range(event['quantity']):\n",
    "                times.append(event['time'])\n",
    "#                 print('Time', event['time'])\n",
    "                \n",
    "    bins = np.linspace(start,end,25)     \n",
    "    data, edges = np.histogram(times, bins)\n",
    "    hours = ['12am', '1am', '2am', '3am', '4am', '5am', '6am', '7am', '8am', '9am', '10am', '11am', '12pm', '1pm', '2pm', '3pm', '4pm', '5pm', '6pm', '7pm', '8pm', '9pm', '10pm', '11pm']\n",
    "    \n",
    "    rtn_data = []\n",
    "    for i, value in enumerate(data):\n",
    "        rtn_data.append(\n",
    "            {'x': hours[i],\n",
    "             'y': int(data[i])\n",
    "            }\n",
    "        )\n",
    "        \n",
    "    print(rtn_data)\n",
    "    \n",
    "    if len(times) > -1:\n",
    "        print('Data', data)\n",
    "        plt.figure(figsize=(30,10))\n",
    "        plt.bar(hours,data, color='green')\n",
    "        plt.show()\n",
    "    \n",
    "    return rtn_data\n",
    "\n",
    "def calc_week_stats(events, index=0):\n",
    "    today = datetime.now()\n",
    "    monday = today + timedelta(days=-today.weekday())\n",
    "    start = time.mktime((monday.year, monday.month, monday.day, 0, 0, 0, 0, 0, 0))\n",
    "    end = 3600*24*7+start\n",
    "\n",
    "    time_range = (start, end)\n",
    "    \n",
    "    # Plot outgoing events\n",
    "    times = []\n",
    "    for event in events:\n",
    "        if start < event['time'] and event['time'] < end:\n",
    "            for i in range(event['quantity']):\n",
    "                times.append(event['time'])\n",
    "#                 print('Time', event['time'])\n",
    "                \n",
    "    bins = np.linspace(start,end,8)     \n",
    "    data, edges = np.histogram(times, bins)\n",
    "    days = ['M', 'Tu', 'W', 'Th', 'F', 'Sa', 'Su']\n",
    "    \n",
    "    rtn_data = []\n",
    "    for i, value in enumerate(data):\n",
    "        rtn_data.append(\n",
    "            {'x': days[i],\n",
    "             'y': int(data[i])\n",
    "            }\n",
    "        )\n",
    "        \n",
    "    print(rtn_data)\n",
    "    \n",
    "    if len(times) > -1:\n",
    "        print('Data', data)\n",
    "        plt.figure(figsize=(30,10))\n",
    "        plt.bar(days,data, color='green')\n",
    "        plt.show()\n",
    "    \n",
    "    return rtn_data\n",
    "\n",
    "def all_station_stats(timespan):\n",
    "    id_list = events_collection.distinct('station')\n",
    "    stats_list = []\n",
    "    for _id in id_list:\n",
    "        calc_station_stats(_id, timespan)\n",
    "    return "
   ]
  },
  {
   "cell_type": "code",
   "execution_count": null,
   "metadata": {},
   "outputs": [],
   "source": [
    "all_station_stats('week')"
   ]
  },
  {
   "cell_type": "markdown",
   "metadata": {},
   "source": [
    "# Reports"
   ]
  },
  {
   "cell_type": "code",
   "execution_count": null,
   "metadata": {},
   "outputs": [],
   "source": [
    "# db.report_events.delete_many({})"
   ]
  },
  {
   "cell_type": "code",
   "execution_count": null,
   "metadata": {},
   "outputs": [],
   "source": [
    "items = db.report_events.find()\n",
    "\n",
    "for item in items:\n",
    "    pprint(item)"
   ]
  },
  {
   "cell_type": "code",
   "execution_count": null,
   "metadata": {},
   "outputs": [],
   "source": [
    "1608578141841/1000"
   ]
  },
  {
   "cell_type": "code",
   "execution_count": null,
   "metadata": {},
   "outputs": [],
   "source": [
    "from context import rest_api\n",
    "import rest_api.report_stats"
   ]
  },
  {
   "cell_type": "code",
   "execution_count": null,
   "metadata": {},
   "outputs": [],
   "source": [
    "station_id = 'f053a58a-4c36-4a02-918b-8d27bccb2cf5'\n",
    "index = 6\n",
    "rest_api.report_stats.get_stats(station_id, index)"
   ]
  },
  {
   "cell_type": "code",
   "execution_count": null,
   "metadata": {},
   "outputs": [],
   "source": [
    "import datetime"
   ]
  },
  {
   "cell_type": "code",
   "execution_count": null,
   "metadata": {},
   "outputs": [],
   "source": [
    "import pandas as pd\n",
    "from IPython.display import display\n",
    "index = 6\n",
    "\n",
    "\n",
    "\n",
    "current_dt = datetime.datetime.now()\n",
    "start_of_today = current_dt.replace(hour=0, minute=0, second=0, microsecond=0)\n",
    "start_of_time_frame = start_of_today + datetime.timedelta(days=-index, hours=0, minutes=0, seconds=0, microseconds=0)\n",
    "end_of_time_frame = start_of_time_frame + datetime.timedelta(days=1, hours=0, minutes=0, seconds=0, microseconds=0)\n",
    "date_title = start_of_time_frame.strftime(\"%B %d, %Y\")\n",
    "\n",
    "start_utc = time.mktime(start_of_time_frame.timetuple())\n",
    "end_utc = time.mktime(end_of_time_frame.timetuple())\n",
    "\n",
    "bins = np.linspace(start_utc, end_utc, 25)\n",
    "lables = ['12am', '1am', '2am', '3am', '4am', '5am', '6am', '7am', '8am', '9am', '10am', '11am', '12pm', '1pm', '2pm', '3pm', '4pm', '5pm', '6pm', '7pm', '8pm', '9pm', '10pm', '11pm']\n",
    "    \n",
    "\n",
    "print('Start', start_of_time_frame)\n",
    "print('End', end_of_time_frame)\n",
    "\n",
    "\n",
    "\n",
    "\n",
    "df = pd.DataFrame(list(db.report_events.find({'station_id' : station_id})))\n",
    "df['date'] = df['date']/1000\n",
    "df = df.set_index('date')\n",
    "\n",
    "# display(df)\n",
    "\n",
    "df = df[start_utc : end_utc]\n",
    "unique_ids = df[start_utc : end_utc]['report_button_id'].unique()\n",
    "\n",
    "\n",
    "data_dict = {}\n",
    "\n",
    "for report_id in unique_ids:\n",
    "    df_1 = df[df['report_button_id'] == report_id]\n",
    "    times = df_1.index\n",
    "    data, edges = np.histogram(times, bins)\n",
    "    data_dict[report_id] = data\n",
    "#     if len(times) > -1:\n",
    "#         print('Data', data)\n",
    "#         plt.figure(figsize=(30,10))\n",
    "#         plt.bar(lables, data, color='green')\n",
    "#         plt.show()\n",
    "    \n",
    "print(data_dict)\n",
    "\n",
    "rtn_data = []\n",
    "for i, lable in enumerate(lables):\n",
    "    temp_dict = {'lable':lable}\n",
    "    for report_id in unique_ids:\n",
    "        temp_dict[report_id] = data_dict[report_id][i]\n",
    "        \n",
    "    rtn_data.append(temp_dict)  \n",
    "print(rtn_data)    "
   ]
  },
  {
   "cell_type": "code",
   "execution_count": null,
   "metadata": {},
   "outputs": [],
   "source": [
    "def read_data(station_id, info):\n",
    "    timespan = info['timespan']\n",
    "    index = info['index']\n",
    "    \n",
    "    # Get station info\n",
    "    station = db.report_events.find_one({'_id':station_id})\n",
    "\n",
    "    # Get station events\n",
    "    events = list(db.report_events.find({'station_id':station_id}))\n",
    "    num_of_events = len(events)\n",
    "    print('Number of events:', num_of_events)\n",
    " \n",
    "    data = {}\n",
    "    if timespan == 'day':\n",
    "        data['throughPut'], data['date_title'] = calc_day_stats(events, index=index)\n",
    "    elif timespan == 'week':\n",
    "        data['throughPut'], data['date_title'] = calc_week_stats(events, index=index)\n",
    "    elif timespan == 'month':\n",
    "        data['throughPut'], data['date_title'] = calc_6_week_stats(events, index=index)\n",
    "    else:\n",
    "        data['throughPut'], data['date_title'] = calc_year_stats(events, index=index)\n",
    "        \n",
    "\n",
    "    return json.dumps(data)\n",
    "\n",
    "def calc_day_stats(events, index=0):\n",
    "    current_dt = datetime.datetime.now()\n",
    "    start_of_today = current_dt.replace(hour=0, minute=0, second=0, microsecond=0)\n",
    "    start_of_timeframe = start_of_today + datetime.timedelta(days=-index, hours=0, minutes=0, seconds=0, microseconds=0)\n",
    "    end_of_time_frame = start_of_timeframe + datetime.timedelta(days=1, hours=0, minutes=0, seconds=0, microseconds=0)\n",
    "    date_title = start_of_timeframe.strftime(\"%B %d, %Y\")\n",
    "    \n",
    "    start_utc = time.mktime(start_of_timeframe.timetuple())\n",
    "    end_utc = time.mktime(end_of_time_frame.timetuple())\n",
    "\n",
    "    # Crop to time frame\n",
    "    events_in_time_frame = []\n",
    "    for event in events:\n",
    "        print(start_utc, event['date']/1000, end_utc)\n",
    "        if start_utc < event['date']/1000 and event['date']/1000 < end_utc:\n",
    "            events_in_time_frame.append(event)\n",
    "            \n",
    "    # Find each report type\n",
    "    types_of_reports = []\n",
    "    for event in events_in_time_frame:\n",
    "        if event['report_button_id'] not in types_of_reports:\n",
    "            types_of_reports.append(event['report_button_id'])\n",
    "            \n",
    "    print('types_of_reports', types_of_reports)\n",
    "    \n",
    "    \n",
    "    \n",
    "    \n",
    "    \n",
    "    \n",
    "    bins = np.linspace(start_utc, end_utc, 25)     \n",
    "    data, edges = np.histogram(times, bins)\n",
    "    \n",
    "    \n",
    "    \n",
    "    \n",
    "    \n",
    "    \n",
    "    \n",
    "    \n",
    "    \n",
    "    lables = ['12am', '1am', '2am', '3am', '4am', '5am', '6am', '7am', '8am', '9am', '10am', '11am', '12pm', '1pm', '2pm', '3pm', '4pm', '5pm', '6pm', '7pm', '8pm', '9pm', '10pm', '11pm']\n",
    "    \n",
    "    rtn_data = []\n",
    "    for i, value in enumerate(data):\n",
    "        rtn_data.append(\n",
    "            {'x': lables[i],\n",
    "             'y': int(data[i])\n",
    "            }\n",
    "        )\n",
    "        \n",
    "    if len(times) > -1:\n",
    "        print('Data', data)\n",
    "        plt.figure(figsize=(30,10))\n",
    "        plt.bar(lables, data, color='green')\n",
    "        plt.show()\n",
    "    \n",
    "    return rtn_data, date_title\n",
    "\n",
    "\n",
    "def all_station_stats(timespan):\n",
    "    id_list = db.report_events.distinct('station_id')\n",
    "    stats_list = []\n",
    "    info = {\n",
    "        'timespan' : timespan,\n",
    "        'index' : 0\n",
    "    }\n",
    "    for _id in id_list:\n",
    "        read_data(_id, info)\n",
    "    return \n"
   ]
  },
  {
   "cell_type": "code",
   "execution_count": null,
   "metadata": {},
   "outputs": [],
   "source": [
    "all_station_stats('day')"
   ]
  },
  {
   "cell_type": "markdown",
   "metadata": {},
   "source": [
    "# Image"
   ]
  },
  {
   "cell_type": "code",
   "execution_count": null,
   "metadata": {},
   "outputs": [],
   "source": [
    "# Get image from mongo\n",
    "item = images_collection.find_one({})\n",
    "\n",
    "# Convert to cv2\n",
    "im_b64 = item['image']\n",
    "im_bytes = base64.b64decode(im_b64)\n",
    "im_arr = np.frombuffer(im_bytes, dtype=np.uint8)  # im_arr is one-dim Numpy array\n",
    "img = cv2.imdecode(im_arr, flags=cv2.IMREAD_COLOR)\n",
    "\n",
    "# Show image\n",
    "fig, ax = plt.subplots(figsize=(20, 20))\n",
    "ax.set_yticks(np.arange(0, 720, 80))\n",
    "ax.set_xticks(np.arange(0, 1280, 80))\n",
    "ax.imshow(img)\n",
    "plt.show()\n"
   ]
  },
  {
   "cell_type": "markdown",
   "metadata": {
    "toc-hr-collapsed": true,
    "toc-nb-collapsed": true
   },
   "source": [
    "# Clear All"
   ]
  },
  {
   "cell_type": "code",
   "execution_count": null,
   "metadata": {},
   "outputs": [],
   "source": [
    "# Clear Dashboards\n",
    "dashboards_collection.delete_many({})\n",
    "\n",
    "# Clear skills\n",
    "skills_collection.delete_many({})\n",
    "\n",
    "# Clear schedules\n",
    "schedules_collection.delete_many({})\n",
    "\n",
    "# Clear Tasks\n",
    "tasks_collection.delete_many({})\n",
    "\n",
    "# Clear positions\n",
    "positions_collection.delete_many({})\n",
    "\n",
    "# Clear station\n",
    "stations_collection.delete_many({})\n",
    "\n",
    "\n",
    "# Clear Objects\n",
    "objects_collection.delete_many({})"
   ]
  },
  {
   "cell_type": "code",
   "execution_count": null,
   "metadata": {},
   "outputs": [],
   "source": [
    "{\"object\": \"cart\", \"type\": \"object_at_position\", \"position\": \"home\"}"
   ]
  },
  {
   "cell_type": "code",
   "execution_count": null,
   "metadata": {},
   "outputs": [],
   "source": [
    "{\"type\": \"hil_complete\", \"name\": \"Broke HIL\"}"
   ]
  },
  {
   "cell_type": "code",
   "execution_count": null,
   "metadata": {},
   "outputs": [],
   "source": [
    "pprint({\\\"children\\\": [{\\\"children\\\": [], \\\"userDefPreconditions\\\": [], \\\"action\\\": {}, \\\"preconditions\\\": [], \\\"postconditions\\\": []}, {\\\"children\\\": [], \\\"userDefPreconditions\\\": [], \\\"action\\\": {}, \\\"preconditions\\\": [], \\\"postconditions\\\": []}], \\\"userDefPreconditions\\\": [{\\\"HILName\\\": \\\"Austin\\\", \\\"type\\\": \\\"hil_complete\\\"}], \\\"preconditions\\\": [{\\\"HILName\\\": \\\"Austin\\\", \\\"type\\\": \\\"hil_complete\\\"}], \\\"postconditionDropdowns\\\": [], \\\"preconditionComponents\\\": [], \\\"userDefPostconditions\\\": [], \\\"action\\\": {\\\"dashboard_id\\\": \\\"5e5ef4fdafd861fd29da55ac\\\", \\\"method\\\": \\\"human_in_the_loop\\\", \\\"stackKey\\\": -1, \\\"abortOnTimeout\\\": False, \\\"stackHash\\\": \\\"5sIWX9O4\\\", \\\"instruction\\\": \\\"Broke HIL\\\", \\\"timeout\\\": \\\"01:00\\\", \\\"name\\\": \\\"Broke HIL\\\"}, \\\"postconditions\\\": [{\\\"type\\\": \\\"hil_complete\\\", \\\"name\\\": \\\"Broke HIL\\\"}], \\\"_id\\\": {\\\"$oid\\\": \\\"5e5ff5824472453a9db5d474\\\"}, \\\"summary\\\": \\\"HIL Broke HIL complete\\\", \\\"preconditionDropdowns\\\": [], \\\"postconditionComponents\\\": [], \\\"name\\\": \\\"Broke HIL\\\"})"
   ]
  },
  {
   "cell_type": "code",
   "execution_count": null,
   "metadata": {},
   "outputs": [],
   "source": [
    "var = {\"preconditions\": [], \"children\": [{\"preconditions\": [], \"children\": [], \"userDefPreconditions\": [], \"action\": {}, \"postconditions\": []}], \"userDefPreconditions\": [], \"action\": {\"method\": \"move_cart_to_x\", \"position\": \"home\"}, \"postconditions\": [{\"type\": \"object_at_position\", \"position\": \"home\", \"object\": \"cart\"}], \"name\": \"Drive to home\", \"_id\": {\"$oid\": \"5e5d96b8aaa81d4f8f97a4cc\"}}, {\"preconditions\": [], \"preconditionDropdowns\": [], \"userDefPreconditions\": [], \"postconditions\": [{\"type\": \"object_at_position\", \"position\": \"home\", \"object\": \"cart\"}, {\"type\": \"stack\", \"stackHash\": \"o7MGcvFx\", \"key\": 0}], \"postconditionDropdowns\": [[{\"name\": \"home\"}]], \"children\": [{\"preconditions\": [], \"children\": [], \"userDefPreconditions\": [], \"action\": {}, \"postconditions\": []}], \"userDefPostconditions\": [], \"action\": {\"stackKey\": -1, \"method\": \"move_cart_to_x\", \"position\": \"home\", \"stackHash\": \"o7MGcvFx\"}, \"postconditionComponents\": [], \"name\": \"Drive to home 2\", \"_id\": {\"$oid\": \"5e5fe4f2afd861fd29da55bf\"}, \"preconditionComponents\": [], \"summary\": \"Drive to home\"}"
   ]
  },
  {
   "cell_type": "code",
   "execution_count": null,
   "metadata": {},
   "outputs": [],
   "source": [
    "pprint(var)"
   ]
  }
 ],
 "metadata": {
  "interpreter": {
   "hash": "351be322aa38eb93a07036057661ea6935b0ca0c932be464540366c1ce93de1e"
  },
  "kernelspec": {
   "display_name": "Python 3.7.3 64-bit ('3.7.3': pyenv)",
   "name": "python3"
  },
  "language_info": {
   "codemirror_mode": {
    "name": "ipython",
    "version": 3
   },
   "file_extension": ".py",
   "mimetype": "text/x-python",
   "name": "python",
   "nbconvert_exporter": "python",
   "pygments_lexer": "ipython3",
   "version": "3.7.3"
  },
  "toc-autonumbering": true,
  "toc-showcode": false,
  "toc-showmarkdowntxt": false,
  "toc-showtags": false
 },
 "nbformat": 4,
 "nbformat_minor": 4
}
