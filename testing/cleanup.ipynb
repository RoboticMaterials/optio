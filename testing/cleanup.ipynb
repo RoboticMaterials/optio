{
 "cells": [
  {
   "cell_type": "code",
   "execution_count": 1,
   "metadata": {},
   "outputs": [
    {
     "name": "stdout",
     "output_type": "stream",
     "text": [
      "/bin/sh: jupyter: command not found\n"
     ]
    }
   ],
   "source": [
    "try:\n",
    "    !jupyter nbconvert --to script cleanup.ipynb\n",
    "except:\n",
    "    pass"
   ]
  },
  {
   "cell_type": "code",
   "execution_count": 3,
   "metadata": {},
   "outputs": [],
   "source": [
    "from pymongo import MongoClient\n",
    "from bson.objectid import ObjectId\n",
    "from bson.json_util import dumps\n",
    "from pprint import pprint\n",
    "from datetime import datetime\n",
    "import warnings\n",
    "import json\n",
    "import os\n",
    "import numpy as np\n",
    "import sys\n",
    "\n",
    "client = MongoClient('localhost:27017')\n",
    "db = client.ContactDB"
   ]
  },
  {
   "cell_type": "code",
   "execution_count": 3,
   "metadata": {},
   "outputs": [
    {
     "name": "stderr",
     "output_type": "stream",
     "text": [
      "/Users/davis/.pyenv/versions/3.7.3/lib/python3.7/site-packages/pandas/compat/__init__.py:117: UserWarning: Could not import the lzma module. Your installed Python is incomplete. Attempting to use lzma compression will result in a RuntimeError.\n",
      "  warnings.warn(msg)\n"
     ]
    }
   ],
   "source": [
    "sys.path.append('../rest_api')\n",
    "from station_stats import calculate_pg_station_cycle_time"
   ]
  },
  {
   "cell_type": "code",
   "execution_count": 4,
   "metadata": {},
   "outputs": [
    {
     "name": "stdout",
     "output_type": "stream",
     "text": [
      "Taking snapshot of database...\n",
      "\n"
     ]
    }
   ],
   "source": [
    "print('Taking snapshot of database...\\n')\n",
    "\n",
    "if not os.path.exists('./optio_db_snapshots'):\n",
    "    os.mkdir('./optio_db_snapshots')\n",
    "    \n",
    "datetimeStr = datetime.now().strftime('%Y%m%d_%H%M%S')\n",
    "if not os.path.exists('./optio_db_snapshots/{}'.format(datetimeStr)):\n",
    "    os.mkdir('./optio_db_snapshots/{}'.format(datetimeStr))\n",
    "    \n",
    "collections = ['cards', 'counters', 'dashboards', 'lot_templates', 'processes', 'report_events', 'settings', 'site_maps', 'stations', 'tasks', 'touch_events']\n",
    "for collection in collections:\n",
    "    documents = db[collection].find()\n",
    "    with open('./optio_db_snapshots/{}/{}.json'.format(datetimeStr, collection), 'w+') as f:\n",
    "        f.write(dumps(documents))\n"
   ]
  },
  {
   "cell_type": "code",
   "execution_count": 5,
   "metadata": {},
   "outputs": [
    {
     "name": "stdout",
     "output_type": "stream",
     "text": [
      "\n",
      "\n",
      "===== DATASTRUCTURE UPDATES BY RELEASE =====\n",
      "\n"
     ]
    }
   ],
   "source": [
    "print('\\n\\n===== DATASTRUCTURE UPDATES BY RELEASE =====\\n')"
   ]
  },
  {
   "cell_type": "code",
   "execution_count": 6,
   "metadata": {},
   "outputs": [
    {
     "name": "stdout",
     "output_type": "stream",
     "text": [
      "1.2.0 - Make sure all processes have a basic template\n",
      "\n"
     ]
    }
   ],
   "source": [
    "## 1.2.0 - Make sure all processes have a basic template\n",
    "print('1.2.0 - Make sure all processes have a basic template')\n",
    "processes = db.processes.find()\n",
    "for process in processes:\n",
    "    basic_templates = list(db.lot_templates.find({'$and': [{'processId': process['_id']}, {'name': 'Basic'}]}))\n",
    "    if len(basic_templates) == 0: # Insert basic template\n",
    "        print('    No Basic product group for process {}'.format(process['name']))\n",
    "        db.lot_templates.insert_one({\n",
    "            \"processId\": process['_id'],\n",
    "            \"map_id\": process['map_id'],\n",
    "            \"name\":\"Basic\",\n",
    "            \"fields\":[\n",
    "                [{\n",
    "                    \"_id\":\"DEFAULT_DESCRIPTION_FIELD_ID\",\n",
    "                    \"component\":\"TEXT_BOX_BIG\",\n",
    "                    \"dataType\":\"STRING\",\n",
    "                    \"fieldName\":\"description\",\n",
    "                    \"required\":False,\n",
    "                    \"showInPreview\":True,\n",
    "                    \"key\":0\n",
    "                }],[{\n",
    "                    \"_id\":\"DEFAULT_DATES_FIELD_ID\",\n",
    "                    \"component\":\"CALENDAR_START_END\"\n",
    "                    ,\"dataType\":\"DATE_RANGE\",\n",
    "                    \"fieldName\":\"dates\",\n",
    "                    \"required\":False,\n",
    "                    \"showInPreview\":True,\n",
    "                    \"key\":1\n",
    "                }]],\n",
    "        })\n",
    "    elif len(basic_templates) > 1: # Too many, delete all but one, and update any card that uses the old one by forcing it to use the one that is kept\n",
    "        print('    {} Basic product groups found for process {}'.format(len(basic_templates), process['name']))\n",
    "        for basic_template in basic_templates[1:]:\n",
    "            cards_w_template_id = db.cards.update_many({'lotTemplateId': basic_template['_id']}, {'$set': {'lotTemplateId': basic_templates[0]['_id']}})\n",
    "            db.lot_templates.delete_one({'lotTemplateId': basic_template['_id']})\n",
    "\n",
    "print()"
   ]
  },
  {
   "cell_type": "code",
   "execution_count": 7,
   "metadata": {},
   "outputs": [
    {
     "name": "stdout",
     "output_type": "stream",
     "text": [
      "1.2.1 - Change \"BASIC_LOT_TEMPLATE\" id to the ID of the actual Basic lot template for all cards\n",
      "\n"
     ]
    }
   ],
   "source": [
    "## 1.2.1 - Change 'BASIC_LOT_TEMPLATE' id to the ID of the actual Basic lot template for all cards\n",
    "print('1.2.1 - Change \"BASIC_LOT_TEMPLATE\" id to the ID of the actual Basic lot template for all cards')\n",
    "\n",
    "lots = db.cards.find()\n",
    "for lot in lots:\n",
    "    if lot['lotTemplateId'] == 'BASIC_LOT_TEMPLATE':\n",
    "        basic_template = db.lot_templates.find_one({'$and': [{'processId': lot['process_id']}, {'name': 'Basic'}]})\n",
    "        print('    Updating product group ID for lot {}'.format(lot['name']))\n",
    "        db.cards.update_one({'_id': lot['_id']}, {'$set': {'lotTemplateId': basic_template['_id']}})\n",
    "        \n",
    "print()"
   ]
  },
  {
   "cell_type": "code",
   "execution_count": 8,
   "metadata": {},
   "outputs": [
    {
     "name": "stdout",
     "output_type": "stream",
     "text": [
      "1.2.1 - If card doesnt have lotNum make one from lotNumber, and delete lotNumber\n",
      "\n"
     ]
    }
   ],
   "source": [
    "## 1.2.1 - If card doesnt have lotNum make one from lotNumber, and delete lotNumber\n",
    "print('1.2.1 - If card doesnt have lotNum make one from lotNumber, and delete lotNumber')\n",
    "\n",
    "lots = db.cards.find()\n",
    "for lot in lots:\n",
    "    if 'lotNum' not in lot:\n",
    "        if 'lotNumber' in lot:\n",
    "            print('    Updating lot {}'.format(lot['name']))\n",
    "            db.cards.update_one({'_id': lot['_id']}, {'$set': {'lotNum': lot['lotNumber']}, '$unset': {'lotNumber': ''}})\n",
    "        else:\n",
    "            warnings.warn('    Lot {} has no lotNum and no lotNumber'.format(lot['name']))\n",
    "            \n",
    "print()"
   ]
  },
  {
   "cell_type": "code",
   "execution_count": 9,
   "metadata": {},
   "outputs": [
    {
     "name": "stdout",
     "output_type": "stream",
     "text": [
      "1.2.1 - Field Mapping has changed from array (columns) to object (id: column)\n",
      "    Updating product group Basic from process Sim\n",
      "    Updating product group Basic from process Process\n",
      "    Updating product group Snowboard from process Process\n",
      "    Updating product group Basic from process Fill\n",
      "    Updating product group Basic from process Core\n",
      "    Updating product group Basic from process Sleeve\n",
      "    Updating product group Rocker Board from process Process\n",
      "    Updating product group Ski from process Process\n",
      "    Deleted 0 products without processId\n"
     ]
    }
   ],
   "source": [
    "## 1.2.1 - Field Mapping has changed from array (columns) to object (id: column)\n",
    "print('1.2.1 - Field Mapping has changed from array (columns) to object (id: column)')\n",
    "\n",
    "deleted = 0\n",
    "product_groups = db.lot_templates.find()\n",
    "for pg in product_groups:\n",
    "    if 'processId' not in pg or db.processes.find_one({'_id': pg['processId']}) is None:\n",
    "        db.lot_templates.delete_one({'_id': pg['_id']})\n",
    "        deleted += 1\n",
    "        continue\n",
    "    if 'uploadFieldMapping' not in pg or type(pg['uploadFieldMapping']) == list:\n",
    "        pg_process = db.processes.find_one({'_id': pg['processId']})\n",
    "        print('    Updating product group {} from process {}'.format(pg['name'], pg_process['name']))\n",
    "        db.lot_templates.update_one({'_id': pg['_id']}, {'$set': {'uploadFieldMapping': {}}})\n",
    "\n",
    "print('    Deleted {} products without processId'.format(deleted))"
   ]
  },
  {
   "cell_type": "code",
   "execution_count": 6,
   "metadata": {},
   "outputs": [
    {
     "name": "stdout",
     "output_type": "stream",
     "text": [
      "1.2.3 - Add Actual, Desired, and Theoretical Min cycle times for stations (by product group)\n",
      "    Updated station 'EE' with 1 product groups\n",
      "    Updated station 'FF' with 1 product groups\n"
     ]
    }
   ],
   "source": [
    "\n",
    "## 1.2.3 - Add Actual, Desired, and Theoretical Min cycle times for stations (by product group)\n",
    "print('1.2.3 - Add Actual, Desired, and Theoretical Min cycle times for stations (by product group)')\n",
    "\n",
    "stations = list(db.stations.find())\n",
    "processes = list(db.processes.find())\n",
    "\n",
    "for station in stations:\n",
    "    \n",
    "    new_cycle_times = 0\n",
    "    for process in processes:\n",
    "        process_stations = [node['stationID'] for node in process['flattened_stations']]\n",
    "        if station['_id'] in process_stations:\n",
    "            cycle_times = station['cycle_times'] if 'cycle_times' in station else {}\n",
    "            product_groups = list(db.lot_templates.find({'processId': process['_id']}))\n",
    "            for product_group in product_groups:\n",
    "                if product_group['_id'] in cycle_times:\n",
    "                    cycle_time_dict = cycle_times[product_group['_id']]\n",
    "                    if np.array([key in cycle_time_dict for key in ['actual', 'theoretical', 'historical', 'mode', 'manual']]).all():\n",
    "                        continue\n",
    "                    else:\n",
    "                        new_cycle_times += 1\n",
    "                        if 'actual' not in cycle_time_dict:\n",
    "                            cycle_time_dict['actual'] = 0\n",
    "                        if 'manual' not in cycle_time_dict:\n",
    "                            cycle_time_dict['manual'] = 0\n",
    "                        if 'theoretical' not in cycle_time_dict: \n",
    "                            cycle_time_dict['theoretical'] = 0\n",
    "                        if 'historical' not in cycle_time_dict:\n",
    "                            cycle_time_dict['historical'] = 0\n",
    "                        if 'mode' not in cycle_time_dict:\n",
    "                            cycle_time_dict['mode'] = 'auto'\n",
    "\n",
    "                else:                \n",
    "                    new_cycle_times += 1\n",
    "                    if 'cycle_time' in station and 'manual_cycle_time' in station:\n",
    "                        cycle_times[product_group['_id']] = {\n",
    "                            'theoretical': 0,\n",
    "                            'actual': station['cycle_time'],\n",
    "                            'manual': station['manual_cycle_time'],\n",
    "                            'mode': 'auto',\n",
    "                            'historical': 0\n",
    "                        }\n",
    "                    else:\n",
    "                        cycle_times[product_group['_id']] = {\n",
    "                            'theoretical': 0,\n",
    "                            'historical': 0,\n",
    "                            'actual': 0,\n",
    "                            'manual': 0,\n",
    "                            'mode': 'auto'\n",
    "                        }\n",
    "                \n",
    "    if (new_cycle_times > 0):\n",
    "        print(\"    Updated station '{}' with {} product groups\".format(station['name'], new_cycle_times))\n",
    "        db.stations.update_one({'_id': station['_id']}, {'$unset': {'cycle_time': \"\", 'manual_cycle_time': \"\", 'cycle_time_mode': \"\"}, '$set': {'cycle_times': cycle_times}})"
   ]
  },
  {
   "cell_type": "code",
   "execution_count": 15,
   "metadata": {},
   "outputs": [
    {
     "name": "stdout",
     "output_type": "stream",
     "text": [
      "1.2.3 - Update all events with the PGS cycle time that was there durring that event and map_id and change user to operator and set idle time\n",
      "    0 Invalid touch events (no valid staion or no valid product group\n"
     ]
    }
   ],
   "source": [
    "## 1.2.3 - Update all events with the PGS cycle time that was there durring that event and map_id and change user to operator\n",
    "print('1.2.3 - Update all events with the PGS cycle time that was there durring that event and map_id and change user to operator and set idle time')\n",
    "\n",
    "touch_events = db.touch_events.find()\n",
    "\n",
    "stations = db.stations.find()\n",
    "normalized_stations = {station['_id']: station for station in stations}\n",
    "\n",
    "product_groups = db.lot_templates.find()\n",
    "normalized_product_groups = {pg['_id']: pg for pg in product_groups}\n",
    "\n",
    "invalid_tes = 0\n",
    "for touch_event in touch_events:\n",
    "    if 'pgs_cycle_time' not in touch_event:\n",
    "    \n",
    "        if touch_event['load_station_id'] == 'QUEUE':\n",
    "            db.touch_events.update_one({'_id': touch_event['_id']}, {'$set': {'pgs_cycle_time': 0, 'idle_seconds': 0}})\n",
    "            \n",
    "        elif touch_event['load_station_id'] in normalized_stations and touch_event['product_group_id'] in normalized_product_groups:\n",
    "            station = normalized_stations[touch_event['load_station_id']]\n",
    "            product_group = normalized_product_groups[touch_event['product_group_id']]\n",
    "            \n",
    "            try:\n",
    "                pgs_cycle_time = station['cycle_times'][product_group['_id']]['actual']\n",
    "                print('    Updating event {}'.format(touch_event['_id']))\n",
    "                db.touch_events.update_one({'_id': touch_event['_id']}, {'$set': {'pgs_cycle_time': pgs_cycle_time}})\n",
    "            except KeyError:\n",
    "                print('Station {} does not have cycle time for product group {}'.format(station['name'], product_group['name']))\n",
    "                \n",
    "            if 'map_id' not in touch_event:\n",
    "                map_id = normalized_stations[touch_event['load_station_id']]['map_id']\n",
    "                db.touch_events.update_one({'_id': touch_event['_id']}, {'$set': {'map_id': map_id}})\n",
    "                \n",
    "            if 'idle_seconds' not in touch_event:\n",
    "                db.touch_events.update_one({'_id': touch_event['_id']}, {'$set': {'idle_seconds': 0}})\n",
    "                \n",
    "        else:\n",
    "            invalid_tes += 1\n",
    "            db.touch_events.delete_one({'_id': touch_event['_id']})\n",
    "    \n",
    "    if 'operator' not in touch_event and 'user' in touch_event:\n",
    "        db.touch_events.update_one({'_id': touch_event['_id']}, {'$set': {'operator': touch_event['user']}, '$unset': {'user': \"\"}})\n",
    "        \n",
    "print('    {} Invalid touch events (no valid staion or no valid product group'.format(invalid_tes))"
   ]
  },
  {
   "cell_type": "code",
   "execution_count": 16,
   "metadata": {},
   "outputs": [
    {
     "name": "stdout",
     "output_type": "stream",
     "text": [
      "1.2.3 Update any summaries to use productivity instead of efficiency\n"
     ]
    }
   ],
   "source": [
    "## 1.2.3 Update any summaries to use productivity instead of efficiency\n",
    "print('1.2.3 Update any summaries to use productivity instead of efficiency')\n",
    "\n",
    "for summary in db.station_summaries.find():\n",
    "    if 'efficiency' in summary:\n",
    "        db.station_summaries.update_one({'_id': summary['_id']}, {'$set': {'productivity': summary['efficiency']}, '$unset': {'efficiency': \"\"}})\n"
   ]
  },
  {
   "cell_type": "code",
   "execution_count": 17,
   "metadata": {},
   "outputs": [
    {
     "name": "stdout",
     "output_type": "stream",
     "text": [
      "1.2.3 - Give every product group a takt time (initialize to 0)\n"
     ]
    }
   ],
   "source": [
    "## 1.2.3 - Give every product group a takt time (initialize to 0)\n",
    "print('1.2.3 - Give every product group a takt time (initialize to 0)')\n",
    "\n",
    "product_groups = db.lot_templates.find()\n",
    "\n",
    "for product_group in product_groups:\n",
    "    if 'taktTime' not in product_group:\n",
    "        db.lot_templates.update_one({'_id': product_group['_id']}, {'$set': {'taktTime': 0}})"
   ]
  },
  {
   "cell_type": "code",
   "execution_count": 18,
   "metadata": {},
   "outputs": [
    {
     "name": "stdout",
     "output_type": "stream",
     "text": [
      "1.3.1 - Add historical cycle time for each product at each station\n"
     ]
    }
   ],
   "source": [
    "## 1.3.1 - Add historical cycle time for each product at each station\n",
    "print('1.3.1 - Add historical cycle time for each product at each station')\n",
    "\n",
    "stations = list(db.stations.find())\n",
    "processes = list(db.processes.find())\n",
    "\n",
    "for station in stations:\n",
    "    for product_id, ct_dict in station['cycle_times'].items():        \n",
    "        [pgs_cycle_time, pgs_historical_cycle_time] = calculate_pg_station_cycle_time(station['_id'], product_id, {'move_datetime': datetime.now(), 'quantity': 0, 'working_seconds': 0})\n",
    "        db.stations.update_one({'_id': station['_id']}, {'$set': {'cycle_times.{}.actual'.format(product_id): pgs_cycle_time, 'cycle_times.{}.historical'.format(product_id): pgs_historical_cycle_time}})\n",
    "    "
   ]
  },
  {
   "cell_type": "code",
   "execution_count": 19,
   "metadata": {},
   "outputs": [
    {
     "name": "stdout",
     "output_type": "stream",
     "text": [
      "\n",
      "\n",
      "===== GENERAL CLEANUP =====\n",
      "\n"
     ]
    }
   ],
   "source": [
    "print('\\n\\n===== GENERAL CLEANUP =====\\n')"
   ]
  },
  {
   "cell_type": "code",
   "execution_count": 20,
   "metadata": {},
   "outputs": [
    {
     "name": "stdout",
     "output_type": "stream",
     "text": [
      "Clean Stations\n",
      "    Deleted 0 stations without map\n",
      "\n"
     ]
    }
   ],
   "source": [
    "print('Clean Stations')\n",
    "\n",
    "map_ids = [m['_id'] for m in db.site_maps.find()]\n",
    "\n",
    "stations = db.stations.find()\n",
    "stations_wo_map = 0 \n",
    "for station in stations:\n",
    "    if station['map_id'] not in map_ids:\n",
    "        db.stations.delete_one({'_id': station['_id']})\n",
    "        stations_wo_map += 1\n",
    "        \n",
    "    if db.dashboards.count_documents({'_id': ObjectId(station['dashboards'][0])}) == 0:\n",
    "        warnings.warn('Dashboards for station {} does not exist'.format(station['name']))\n",
    "        \n",
    "print('    Deleted {} stations without map'.format(stations_wo_map))\n",
    "print()"
   ]
  },
  {
   "cell_type": "code",
   "execution_count": 21,
   "metadata": {},
   "outputs": [
    {
     "name": "stdout",
     "output_type": "stream",
     "text": [
      "Clean Dashboards\n",
      "    Deleted 0 dashboards without station\n",
      "\n"
     ]
    }
   ],
   "source": [
    "print('Clean Dashboards')\n",
    "\n",
    "station_ids = [s['_id'] for s in db.stations.find()]\n",
    "\n",
    "dashboards = db.dashboards.find()\n",
    "dashboards_wo_station = 0\n",
    "for dash in dashboards:\n",
    "    if dash['station'] not in station_ids:\n",
    "        db.dashboards.delete_one({'_id': ObjectId(dash['_id'])})\n",
    "        dashboards_wo_station += 1\n",
    "        \n",
    "print('    Deleted {} dashboards without station'.format(dashboards_wo_station))\n",
    "print()"
   ]
  },
  {
   "cell_type": "code",
   "execution_count": 22,
   "metadata": {},
   "outputs": [
    {
     "name": "stdout",
     "output_type": "stream",
     "text": [
      "Clean Processes\n",
      "    Deleted 0 processes without map\n",
      "\n"
     ]
    }
   ],
   "source": [
    "print('Clean Processes')\n",
    "\n",
    "processes = db.processes.find()\n",
    "processes_wo_map = 0\n",
    "for process in processes:\n",
    "    if process['map_id'] not in map_ids:\n",
    "        db.processes.delete_one({'_id': process['_id']})\n",
    "        processes_wo_map += 1\n",
    "        \n",
    "    for routeId in process['routes']:\n",
    "        if db.tasks.count_documents({'_id': routeId}) == 0:\n",
    "            warnings.warn('Route {} in process {} does not exist'.format(routeId, process['name']))\n",
    "        \n",
    "print('    Deleted {} processes without map'.format(processes_wo_map))\n",
    "print()"
   ]
  },
  {
   "cell_type": "code",
   "execution_count": 23,
   "metadata": {},
   "outputs": [
    {
     "name": "stdout",
     "output_type": "stream",
     "text": [
      "Clean Routes\n",
      "\n"
     ]
    }
   ],
   "source": [
    "print('Clean Routes')\n",
    "\n",
    "process_ids = [p['_id'] for p in db.processes.find()]\n",
    "\n",
    "routes = db.tasks.find()\n",
    "routes_wo_map = 0\n",
    "routes_wo_process = 0\n",
    "for route in routes:\n",
    "    if route is None: \n",
    "        db.tasks.delete_one({'_id': route['_id']})\n",
    "        continue\n",
    "    if route['map_id'] not in map_ids:\n",
    "        db.tasks.delete_one({'_id': route['_id']})\n",
    "        routes_wo_map += 1\n",
    "        continue\n",
    "    elif route['processId'] not in process_ids or db.processes.find_one({'_id': route['processId']}) is None:\n",
    "        db.tasks.delete_one({'_id': route['_id']})\n",
    "        routes_wo_process += 1\n",
    "        continue\n",
    "        \n",
    "    if db.stations.count_documents({'_id': route['load']}) == 0:\n",
    "        process = db.processes.find_one({'_id': route['processId']})\n",
    "        warnings.warn('    Route {} in process {} does not have an existing load station'.format(route['name'], process['name']))\n",
    "        continue\n",
    "        \n",
    "    if db.stations.count_documents({'_id': route['unload']}) == 0:\n",
    "        process = db.processes.find_one({'_id': route['processId']})\n",
    "        warnings.warn('    Route {} in process {} does not have an existing unload station'.format(route['name'], process['name']))\n",
    "        continue\n",
    "print()"
   ]
  },
  {
   "cell_type": "code",
   "execution_count": 24,
   "metadata": {},
   "outputs": [
    {
     "name": "stdout",
     "output_type": "stream",
     "text": [
      "Clean Product Groups\n",
      "    Deleted 0 product groups without process\n",
      "\n"
     ]
    }
   ],
   "source": [
    "print('Clean Product Groups')\n",
    "\n",
    "pgs = db.lot_templates.find()\n",
    "pgs_wo_process = 0\n",
    "for pg in pgs:\n",
    "    if 'processId' not in pg or pg['processId'] not in process_ids:\n",
    "        db.lot_templates.delete_one({'_id': pg['_id']})\n",
    "        pgs_wo_process += 1\n",
    "        \n",
    "print('    Deleted {} product groups without process'.format(pgs_wo_process))\n",
    "print()"
   ]
  },
  {
   "cell_type": "code",
   "execution_count": 25,
   "metadata": {},
   "outputs": [
    {
     "name": "stdout",
     "output_type": "stream",
     "text": [
      "Clean Cards\n",
      "    Deleted 0 cards without product group\n",
      "    Deleted 0 cards with no bins\n",
      "\n"
     ]
    }
   ],
   "source": [
    "print('Clean Cards')\n",
    "\n",
    "pg_ids = [pg['_id'] for pg in db.lot_templates.find()]\n",
    "\n",
    "cards = db.cards.find()\n",
    "cards_wo_map = 0\n",
    "cards_wo_process = 0\n",
    "cards_wo_pg = 0\n",
    "cards_wo_bins = 0\n",
    "for card in cards:\n",
    "    if 'bins' not in card or len(card['bins'].keys()) == 0:\n",
    "        db.cards.delete_one({'_id': card['_id']})\n",
    "        cards_wo_bins += 1\n",
    "    if 'lotTemplateId' not in card or card['lotTemplateId'] not in pg_ids:\n",
    "        db.cards.delete_one({'_id': card['_id']})\n",
    "        cards_wo_pg += 1\n",
    "    elif card['map_id'] not in map_ids:\n",
    "        cards_wo_map += 1\n",
    "        # Dont delete, this is a major bug because the pg exists, meaning the process exists, meaning the map exists\n",
    "    elif card['process_id'] not in process_ids:\n",
    "        cards_wo_process += 1\n",
    "        # Dont delete, this is a major bug because the pg exists, meaning the process exists\n",
    "\n",
    "print('    Deleted {} cards without product group'.format(cards_wo_pg))\n",
    "print('    Deleted {} cards with no bins'.format(cards_wo_bins))\n",
    "if cards_wo_map: warnings.warn('    {} cards have no map'.format(cards_wo_map))\n",
    "if cards_wo_process: warnings.warn('    {} cards have no process'.format(cards_wo_process))\n",
    "print()"
   ]
  },
  {
   "cell_type": "code",
   "execution_count": 26,
   "metadata": {},
   "outputs": [
    {
     "name": "stdout",
     "output_type": "stream",
     "text": [
      "Clean Report Events\n",
      "    Deleted 0 reports with no station\n",
      "\n"
     ]
    }
   ],
   "source": [
    "print('Clean Report Events')\n",
    "\n",
    "reports = db.report_events.find()\n",
    "reports_wo_station = 0\n",
    "for report in reports:\n",
    "    if report['station_id'] not in station_ids:\n",
    "        db.report_events.delete_one({'_id': report['_id']})\n",
    "        reports_wo_station += 1\n",
    "        \n",
    "print('    Deleted {} reports with no station'.format(reports_wo_station))\n",
    "print()"
   ]
  },
  {
   "cell_type": "code",
   "execution_count": 29,
   "metadata": {},
   "outputs": [
    {
     "name": "stdout",
     "output_type": "stream",
     "text": [
      "Clean Touch Events\n",
      "    Deleted 0 events without process\n",
      "    Deleted 8897 events with no load station or no lot\n",
      "\n"
     ]
    },
    {
     "name": "stderr",
     "output_type": "stream",
     "text": [
      "/Users/davis/.pyenv/versions/3.7.3/lib/python3.7/site-packages/ipykernel_launcher.py:24: UserWarning:     6 events did not have a map\n"
     ]
    }
   ],
   "source": [
    "print('Clean Touch Events')\n",
    "\n",
    "lot_ids = [l['_id'] for l in db.cards.find()]\n",
    "\n",
    "touch_events = db.touch_events.find()\n",
    "events_wo_process = 0\n",
    "events_wo_load_and_lot = 0\n",
    "events_wo_map = 0\n",
    "for e in touch_events:\n",
    "    if 'process_id' not in e or e['process_id'] not in process_ids:\n",
    "        db.touch_events.delete_one({'_id': e['_id']})\n",
    "        events_wo_process += 1\n",
    "    elif ('load_station_id' not in e or e['load_station_id'] not in station_ids) or ('lot_id' not in e or e['lot_id'] not in lot_ids):\n",
    "        db.touch_events.delete_one({'_id': e['_id']})\n",
    "        events_wo_load_and_lot += 1\n",
    "    elif 'map_id' not in e or e['map_id'] not in map_ids:\n",
    "        load_station = db.stations.find_one({'_id': e['load_station_id']})\n",
    "        db.touch_events.update_one({'_id': e['_id']}, {'$set': {'map_id': load_station['map_id']}})\n",
    "        events_wo_map += 1\n",
    "        # Dont delete, this is a major bug\n",
    "        \n",
    "print('    Deleted {} events without process'.format(events_wo_process))\n",
    "print('    Deleted {} events with no load station or no lot'.format(events_wo_load_and_lot))\n",
    "if events_wo_map: warnings.warn('    {} events did not have a map'.format(events_wo_map))\n",
    "print()\n",
    "        "
   ]
  },
  {
   "cell_type": "code",
   "execution_count": null,
   "metadata": {},
   "outputs": [],
   "source": []
  }
 ],
 "metadata": {
  "interpreter": {
   "hash": "fb139d972f27678f5902068e8469cd00f9fe0b75851b9da3573e0e77756ebf38"
  },
  "kernelspec": {
   "display_name": "Python 3.7.3 64-bit ('3.7.3': pyenv)",
   "name": "python3"
  },
  "language_info": {
   "codemirror_mode": {
    "name": "ipython",
    "version": 3
   },
   "file_extension": ".py",
   "mimetype": "text/x-python",
   "name": "python",
   "nbconvert_exporter": "python",
   "pygments_lexer": "ipython3",
   "version": "3.7.3"
  },
  "orig_nbformat": 4
 },
 "nbformat": 4,
 "nbformat_minor": 2
}
