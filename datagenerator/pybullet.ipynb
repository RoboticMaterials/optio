{
 "cells": [
  {
   "cell_type": "code",
   "execution_count": 1,
   "id": "ad9d74db-c45a-46ec-8f03-b9a1e7b5429e",
   "metadata": {},
   "outputs": [
    {
     "name": "stdout",
     "output_type": "stream",
     "text": [
      "\u001b[33mDEPRECATION: Configuring installation scheme with distutils config files is deprecated and will no longer work in the near future. If you are using a Homebrew or Linuxbrew Python, please see discussion at https://github.com/Homebrew/homebrew-core/issues/76621\u001b[0m\n",
      "Collecting PyBullet\n",
      "  Downloading pybullet-3.2.0.tar.gz (79.1 MB)\n",
      "     |████████████████████████████████| 79.1 MB 25.9 MB/s            \n",
      "\u001b[?25h  Preparing metadata (setup.py) ... \u001b[?25ldone\n",
      "\u001b[?25hBuilding wheels for collected packages: PyBullet\n",
      "  Building wheel for PyBullet (setup.py) ... \u001b[?25ldone\n",
      "\u001b[?25h  Created wheel for PyBullet: filename=pybullet-3.2.0-cp39-cp39-macosx_10_15_x86_64.whl size=67548573 sha256=e7c658cf0e86b57b80d0a73586be1b66cec25ac183fb0f88895b84ce478c9f7b\n",
      "  Stored in directory: /Users/correll/Library/Caches/pip/wheels/4d/ce/b1/66add4c7d43ed50b99897145e1b92ce8e6b1d4d629e4dcdc59\n",
      "Successfully built PyBullet\n",
      "Installing collected packages: PyBullet\n",
      "\u001b[33mDEPRECATION: Configuring installation scheme with distutils config files is deprecated and will no longer work in the near future. If you are using a Homebrew or Linuxbrew Python, please see discussion at https://github.com/Homebrew/homebrew-core/issues/76621\u001b[0m\n",
      "Successfully installed PyBullet-3.2.0\n",
      "\u001b[33mWARNING: You are using pip version 21.3.1; however, version 22.0.3 is available.\n",
      "You should consider upgrading via the '/usr/local/opt/python@3.9/bin/python3.9 -m pip install --upgrade pip' command.\u001b[0m\n"
     ]
    }
   ],
   "source": [
    "!pip3 install PyBullet"
   ]
  },
  {
   "cell_type": "code",
   "execution_count": 1,
   "id": "70662482-0373-42a8-8688-d685911c486d",
   "metadata": {},
   "outputs": [
    {
     "name": "stdout",
     "output_type": "stream",
     "text": [
      "(-0.29201157889782076, -0.31352387810969373, 0.2703650268290416) (0.6898450209642807, 0.1577734757390157, -0.6887715210784829, 0.1575283122338785)\n"
     ]
    }
   ],
   "source": [
    "import pybullet as p\n",
    "import time\n",
    "import pybullet_data\n",
    "physicsClient = p.connect(p.GUI)#or p.DIRECT for non-graphical version\n",
    "p.setAdditionalSearchPath(pybullet_data.getDataPath()) #optionally\n",
    "p.setGravity(0,0,-10)\n",
    "planeId = p.loadURDF(\"plane.urdf\")\n",
    "startPos = [0,0,1]\n",
    "startOrientation = p.getQuaternionFromEuler([0,0,0])\n",
    "boxId = p.loadURDF(\"r2d2.urdf\",startPos, startOrientation)\n",
    "#set the center of mass frame (loadURDF sets base link frame) startPos/Ornp.resetBasePositionAndOrientation(boxId, startPos, startOrientation)\n",
    "for i in range (10000):\n",
    "    p.stepSimulation()\n",
    "    time.sleep(1./240.)\n",
    "cubePos, cubeOrn = p.getBasePositionAndOrientation(boxId)\n",
    "print(cubePos,cubeOrn)\n",
    "p.disconnect()\n"
   ]
  }
 ],
 "metadata": {
  "kernelspec": {
   "display_name": "Python 3",
   "language": "python",
   "name": "python3"
  },
  "language_info": {
   "codemirror_mode": {
    "name": "ipython",
    "version": 3
   },
   "file_extension": ".py",
   "mimetype": "text/x-python",
   "name": "python",
   "nbconvert_exporter": "python",
   "pygments_lexer": "ipython3",
   "version": "3.9.10"
  }
 },
 "nbformat": 4,
 "nbformat_minor": 5
}
