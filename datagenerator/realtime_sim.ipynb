{
 "cells": [
  {
   "cell_type": "code",
   "execution_count": 1,
   "id": "1bedb602",
   "metadata": {},
   "outputs": [
    {
     "name": "stdout",
     "output_type": "stream",
     "text": [
      "[NbConvertApp] Converting notebook realtime_sim.ipynb to script\n",
      "[NbConvertApp] Writing 15361 bytes to realtime_sim.py\n"
     ]
    }
   ],
   "source": [
    "try:\n",
    "    !jupyter nbconvert --to script realtime_sim.ipynb\n",
    "    %load_ext autoreload\n",
    "    %autoreload 2   \n",
    "except:\n",
    "    pass"
   ]
  },
  {
   "cell_type": "code",
   "execution_count": 39,
   "id": "38728285",
   "metadata": {},
   "outputs": [],
   "source": [
    "import time\n",
    "from numpy import random\n",
    "from strgen import StringGenerator\n",
    "import uuid\n",
    "import sys\n",
    "from datetime import datetime, timedelta\n",
    "\n",
    "#client = MongoClient('localhost:27017')\n",
    "#db = client.ContactDB\n",
    "\n",
    "sys.path.append(\".\")\n",
    "from Optio import Optio"
   ]
  },
  {
   "cell_type": "code",
   "execution_count": 3,
   "id": "b6ba781e",
   "metadata": {},
   "outputs": [],
   "source": [
    "reset=True\n",
    "MIN_CYCLE=5\n",
    "MAX_CYCLE=10*60 #10*60"
   ]
  },
  {
   "cell_type": "markdown",
   "id": "222d0720",
   "metadata": {},
   "source": [
    "# Initialize"
   ]
  },
  {
   "cell_type": "code",
   "execution_count": 40,
   "id": "2b923a5c",
   "metadata": {},
   "outputs": [],
   "source": [
    "from numpy import random\n",
    "\n",
    "def draw_from_normal(mean):\n",
    "#    return mean\n",
    "    return abs(random.normal(mean,mean))"
   ]
  },
  {
   "cell_type": "code",
   "execution_count": 41,
   "id": "c1edbfcb",
   "metadata": {},
   "outputs": [
    {
     "name": "stdout",
     "output_type": "stream",
     "text": [
      "Login success\n"
     ]
    }
   ],
   "source": [
    "# optio = Optio('nikolaus@optio.cloud', 'Vaygts99', instance='demo.optio.cloud', protocol='https') #,instance='demo.optio.cloud')\n",
    "optio = Optio('nikolaus@optio.cloud', 'Vaygts99', instance='demo.optio.cloud', protocol=\"https\")\n",
    "#optio = Optio('nikolaus@optio.cloud', 'Vaygts99', instance='sandbox.optio.cloud:5000', protocol=\"https\",access_code='7dokjfdgkbe5fimvuf2jjmrhuf')\n",
    "\n",
    "# optio.request('GET', 'site_maps')\n",
    "# print([m['name'] for m in optio.get_maps()])\n",
    "#optio.curr_map_id = optio.get_map_by_name('Phunkshun')['_id']\n",
    "#optio.curr_map_id = optio.get_map_by_name('Factory 1')['_id']\n",
    "#optio.curr_map_id = optio.get_map_by_name('Blank Map')['_id']\n",
    "optio.curr_map_id = optio.get_map_by_name('Demo')['_id']"
   ]
  },
  {
   "cell_type": "markdown",
   "id": "eb125168",
   "metadata": {},
   "source": [
    "# Simulate card deployment\n",
    "\n",
    "Cards are created in the queue and the system is simulated until 1/Nth of the card have arrived at the Nth station. "
   ]
  },
  {
   "cell_type": "code",
   "execution_count": 42,
   "id": "0bb5dfe4",
   "metadata": {},
   "outputs": [],
   "source": [
    "if reset:\n",
    "    optio.clear_map_statistics()"
   ]
  },
  {
   "cell_type": "code",
   "execution_count": 43,
   "id": "29745720",
   "metadata": {},
   "outputs": [],
   "source": [
    "def create_card(map_id, process_id, template_id, station_id, quantity=1):\n",
    "     #name = StringGenerator('Order ${SKU}, ${name}, ${color}').render(SKU=list(range(10000,20000)),name=['Rubber ducky','Superhero','Cookie Monster'],color=['yellow','red','green'])\n",
    "     name = StringGenerator('Order ${SKU}, ${name}, ${color}').render(SKU=list(range(10000,20000)),name=['Warrior','Omega','Tulane'],color=['mauve','pink','yellow'])\n",
    "\n",
    "     return {'_id':str(uuid.uuid4()),\n",
    "              'bins': {station_id :{'count':quantity}},\n",
    "               \"fields\": [[{'_id': 'DEFAULT_DESCRIPTION_FIELD_ID',\n",
    "                            \n",
    "                            'component': 'TEXT_BOX_BIG',\n",
    "                            'dataType': 'STRING',\n",
    "                            'fieldName': 'description',\n",
    "                            'required': False,\n",
    "                            'showInPreview': True,\n",
    "                            'key': 0,\n",
    "                            'value': ''}],\n",
    "                          [{'_id': 'DEFAULT_DATES_FIELD_ID',\n",
    "                            'component': 'CALENDAR_START_END',\n",
    "                            'dataType': 'DATE_RANGE',\n",
    "                            'fieldName': 'dates',\n",
    "                            'required': False,\n",
    "                            'showInPreview': True,\n",
    "                            'key': 1,\n",
    "                            'value': [None, None]}]],\n",
    "               \"flags\": [],\n",
    "              'lotNum' : 0,\n",
    "              'lotTemplateId' : template_id,\n",
    "              'name':name,\n",
    "              'description': \"\",\n",
    "              'process_id':process_id,\n",
    "              'map_id':map_id,\n",
    "              'totalQuantity': quantity,\n",
    "              'syncWithTemplate' : False,\n",
    "              #'start_date' : {'year':2021, 'month':2, 'day':random.randrange(5,7)},\n",
    "              #'end_date' : None,\n",
    "             }\n",
    "               \n",
    "    "
   ]
  },
  {
   "cell_type": "code",
   "execution_count": 44,
   "id": "12c6471f",
   "metadata": {},
   "outputs": [],
   "source": [
    "server_settings = optio.request('GET', 'settings')\n",
    "shift_details = server_settings['shiftDetails']\n",
    "\n",
    "begin_shift = datetime.strptime(shift_details['startOfShift'],'%H:%M').time()\n",
    "begin_shift_secs = (begin_shift.hour * 60 + begin_shift.minute) * 60 + begin_shift.second\n",
    "\n",
    "end_of_shift = datetime.strptime(shift_details['endOfShift'],'%H:%M').time()\n",
    "end_of_shift_secs = (end_of_shift.hour * 60 + end_of_shift.minute) * 60 + end_of_shift.second\n",
    "\n",
    "#breaks = [[time.strptime(brk['startOfBreak'],'%H:%M').time(), time.strptime(brk['endOfBreak'],'%H:%M').time()] if brk['enabled'] else [0,0] for brk in shift_details['breaks'].values()]\n",
    "\n",
    "def round_to_shift_start(dt):\n",
    "    return datetime.combine(dt, begin_shift)"
   ]
  },
  {
   "cell_type": "code",
   "execution_count": 49,
   "id": "f8f85545",
   "metadata": {},
   "outputs": [
    {
     "name": "stdout",
     "output_type": "stream",
     "text": [
      "Starting Simulation at 2022-02-02 07:00:00\n",
      "Process: Optics Process\n",
      "Creating 24 lots\n"
     ]
    }
   ],
   "source": [
    "## 0. Initialize simulation\n",
    "\n",
    "\n",
    "\n",
    "\n",
    "map_id=optio.curr_map_id\n",
    "    \n",
    "if reset:\n",
    "    \n",
    "    start_datetime = round_to_shift_start(datetime.now() - timedelta(days=10))\n",
    "    print('Starting Simulation at {}'.format(start_datetime))\n",
    "    start_UTC = datetime.timestamp(start_datetime)\n",
    "\n",
    "    mcards = 25          # Mean number of cards per station\n",
    "    vcards = 1           # Plus/minus number of cards at each station\n",
    "\n",
    "    finished = 0         # Number of items in the finished queue\n",
    "\n",
    "    optio.delete_lots_on_map()\n",
    "\n",
    "\n",
    "    ## 1. Create #nqueue cards in each queue    \n",
    "    processes = optio.get_processes() #db.processes.find()\n",
    "    product_groups = optio.get_product_groups()\n",
    "    for process in processes:\n",
    "        print('Process: {}'.format(process['name']))\n",
    "        template_ids = [pg['_id'] for pg in product_groups if pg['processId'] == process['_id']]\n",
    "\n",
    "        lots=[]\n",
    "        if(mcards-vcards < mcards+vcards):\n",
    "            ncards=random.randint(mcards-vcards,mcards+vcards)\n",
    "        else:\n",
    "            ncards=1;\n",
    "        print('Creating {} lots'.format(ncards))\n",
    "        for i in range(ncards):\n",
    "            template_id = random.choice(template_ids)\n",
    "            lots.append(create_card(map_id, process['_id'], template_id, 'QUEUE', quantity=random.randint(1,20)))\n",
    "        optio.create_lots(lots)\n",
    "else:\n",
    "    start_datetime = datetime.now()\n",
    "    print('Starting Simulation at {}'.format(start_datetime))\n",
    "    start_UTC = datetime.timestamp(start_datetime)\n"
   ]
  },
  {
   "cell_type": "code",
   "execution_count": 50,
   "id": "43bd1792",
   "metadata": {},
   "outputs": [
    {
     "name": "stdout",
     "output_type": "stream",
     "text": [
      "Working on station Receiving\n",
      "  Updating cycle times for station...\n",
      "Working on station Injection Molding\n",
      "  Updating cycle times for station...\n",
      "Working on station PCBs\n",
      "  Updating cycle times for station...\n",
      "Working on station SMT\n",
      "  Updating cycle times for station...\n",
      "Working on station Packaging\n",
      "  Updating cycle times for station...\n",
      "Working on station Shipping\n",
      "  Updating cycle times for station...\n",
      "Working on station ICT\n",
      "  Updating cycle times for station...\n",
      "Working on station QUEUE_Optics Process\n",
      "   Adding lot Order 13575, Omega, yellow\n",
      "   Adding lot Order 10221, Warrior, pink\n",
      "   Adding lot Order 19706, Omega, mauve\n",
      "   Adding lot Order 11803, Omega, pink\n",
      "   Adding lot Order 18517, Tulane, pink\n",
      "   Adding lot Order 12180, Omega, mauve\n",
      "   Adding lot Order 14912, Warrior, pink\n",
      "   Adding lot Order 17997, Tulane, yellow\n",
      "   Adding lot Order 18399, Omega, mauve\n",
      "   Adding lot Order 10279, Warrior, mauve\n",
      "   Adding lot Order 17263, Omega, pink\n",
      "   Adding lot Order 17940, Tulane, mauve\n",
      "   Adding lot Order 14145, Omega, mauve\n",
      "   Adding lot Order 12125, Tulane, yellow\n",
      "   Adding lot Order 12921, Warrior, pink\n",
      "   Adding lot Order 12174, Warrior, mauve\n",
      "   Adding lot Order 16714, Tulane, mauve\n",
      "   Adding lot Order 12905, Omega, mauve\n",
      "   Adding lot Order 13088, Tulane, pink\n",
      "   Adding lot Order 13458, Omega, mauve\n",
      "   Adding lot Order 11762, Tulane, pink\n",
      "   Adding lot Order 18480, Warrior, yellow\n",
      "   Adding lot Order 18609, Tulane, mauve\n",
      "   Adding lot Order 14398, Warrior, yellow\n"
     ]
    }
   ],
   "source": [
    "## 2. Create stations data structure that includes both queues and all lots\n",
    "speedup_factor = 10000;\n",
    "\n",
    "reset_cycle_times = True\n",
    "\n",
    "#def get_seconds(time_str):\n",
    "#    hh, mm, ss = time_str.split(':')\n",
    "#    return int(hh) * 3600 + int(mm) * 60 + int(ss)\n",
    "\n",
    "lots=optio.get_all_lots()\n",
    "processes=optio.get_processes()\n",
    "product_groups=optio.get_product_groups()\n",
    "\n",
    "# Augment station data structure with pointers to lots and simulated time. \n",
    "stations=optio.get_stations()\n",
    "\n",
    "for station in stations:\n",
    "\n",
    "    print('Working on station {}'.format(station['name']))\n",
    "    \n",
    "    # Fill out the cycle time dict for each product group (if not already filled out)\n",
    "    for pg_id, cycle_time_dict in station['cycle_times'].items():\n",
    "        rand_ct = random.randint(MIN_CYCLE, MAX_CYCLE)\n",
    "        if reset_cycle_times or cycle_time_dict['manual'] == 0:\n",
    "            if cycle_time_dict['actual'] == 0 or reset_cycle_times:\n",
    "                cycle_time_dict['actual'] = rand_ct\n",
    "                cycle_time_dict['manual'] = rand_ct\n",
    "            else:\n",
    "                cycle_time_dict['manual'] = cycle_time_dict['actual']\n",
    "                \n",
    "        if reset_cycle_times or cycle_time_dict['theoretical'] == 0:\n",
    "            cycle_time_dict['theoretical'] = cycle_time_dict['actual'] / (random.rand()*9 + 1)\n",
    "        \n",
    "        station['cycle_times'][pg_id] = cycle_time_dict\n",
    "    print('  Updating cycle times for station...')\n",
    "    optio.request('PUT', 'stations/{}'.format(station['_id']), station)\n",
    "        \n",
    "    # Populate the station with all the lots at the station\n",
    "    lots_at_station=[]\n",
    "    for lot in lots:\n",
    "        if station['_id'] in lot['bins'].keys():\n",
    "            lots_at_station.append(lot)\n",
    "            print('   Adding lot {}'.format(lot['name']))\n",
    "    \n",
    "    station['lots']=lots_at_station\n",
    "    if len(lots_at_station) == 0:\n",
    "        station['last_action'] = start_UTC\n",
    "        station['next_action'] = start_UTC\n",
    "    else:\n",
    "        next_lot = lots_at_station[0]\n",
    "        #print(next_lot)\n",
    "        lot_cycle_time = station['cycle_times'][next_lot['lotTemplateId']]['actual']\n",
    "        station['last_action'] = start_UTC\n",
    "        station['next_action'] = start_UTC + (draw_from_normal(lot_cycle_time) * next_lot['totalQuantity'] / speedup_factor)\n",
    "    \n",
    "# Augment station data structure by queues\n",
    "\n",
    "for process in processes: # each process has its own queue\n",
    "    rand_ct = random.randint(1*60, 12*60)\n",
    "    template={'_id':str(uuid.uuid4()), \n",
    "              'name': 'QUEUE_'+process['name'],\n",
    "              'cycle_time': rand_ct,\n",
    "              'type':'queue',\n",
    "             }\n",
    "\n",
    "    print('Working on station {}'.format(template['name']))\n",
    "    lots_at_station=[]\n",
    "    for lot in lots:\n",
    "        if lot['process_id']==process['_id'] and 'QUEUE' in lot['bins'].keys():\n",
    "            lots_at_station.append(lot)\n",
    "            print('   Adding lot {}'.format(lot['name']))\n",
    "            \n",
    "    template['next_action'] = start_UTC\n",
    "    template['lots']=lots_at_station\n",
    "    stations.append(template)"
   ]
  },
  {
   "cell_type": "code",
   "execution_count": 51,
   "id": "8c25f8c8",
   "metadata": {},
   "outputs": [],
   "source": [
    "def add_lot_to_station(lot, station_id, curr_UTC_time):\n",
    "    for station in stations:\n",
    "        if(station['_id']==station_id):\n",
    "            lot['bins']={station_id:{'count':lot['totalQuantity']}}            \n",
    "            if(len(station['lots'])==0): # only update time if the target station is empty\n",
    "                station['lots'].append(lot)\n",
    "            return station\n",
    "    raise Exception('Station not found, lot not added') \n",
    "\n",
    "# def seconds_until_shift(dt):\n",
    "#     if (dt.weekday() >= 5): return timedelta(days=7 - dt.weekday()).total_seconds() - begin_shift_secs\n",
    "#     t = dt.time();\n",
    "#     t_seconds = timedelta(hours=t.tm_hour,minutes=t.tm_min,seconds=t.tm_sec).total_seconds()\n",
    "    \n",
    "#     if t < begin_shift: return begin_shift_secs - t_seconds\n",
    "#     for brk in breaks:\n",
    "#         if t >= brk[0] and t <= brk[1]: return brk[1] - t_seconds\n",
    "#     if t > end_of_shift: return \n",
    "    \n",
    "#     return False\n",
    "    \n",
    "\n",
    "# def add_time_within_shift(curr_UTC_time, add_time):\n",
    "#     while is_during_break(datetime.fromtimestamp(curr_UTC_time + add_time)):\n",
    "        \n",
    "        "
   ]
  },
  {
   "cell_type": "code",
   "execution_count": 52,
   "id": "e29d7569",
   "metadata": {},
   "outputs": [
    {
     "name": "stdout",
     "output_type": "stream",
     "text": [
      "2s - 2022-02-02 07:00:00 - KICKOFF: QUEUE_Optics Process -> Receiving       lot Order 13575, Omega, yellow\n",
      "2022-02-02 07:00:00\n",
      "2s - 2022-02-02 07:00:00 - MOVE:          Receiving -> Injection Molding lot Order 13575, Omega, yellow\n",
      "3s - 2022-02-02 07:00:00 - MOVE:    Injection Molding -> SMT             lot Order 13575, Omega, yellow\n",
      "3s - 2022-02-02 07:00:00 - MOVE:                SMT -> ICT             lot Order 13575, Omega, yellow\n",
      "4s - 2022-02-02 07:00:00 - MOVE:                ICT -> Packaging       lot Order 13575, Omega, yellow\n"
     ]
    },
    {
     "ename": "KeyError",
     "evalue": "'6206bc314ff8dec86fd5711e'",
     "output_type": "error",
     "traceback": [
      "\u001b[0;31m---------------------------------------------------------------------------\u001b[0m",
      "\u001b[0;31mKeyError\u001b[0m                                  Traceback (most recent call last)",
      "\u001b[0;32m<ipython-input-52-68dd5ff4af33>\u001b[0m in \u001b[0;36m<module>\u001b[0;34m\u001b[0m\n\u001b[1;32m     55\u001b[0m                     \u001b[0mprint\u001b[0m\u001b[0;34m(\u001b[0m\u001b[0;34m'{}s - {} - NEW LOT: {:>15} -> {:<15} lot {}'\u001b[0m\u001b[0;34m.\u001b[0m\u001b[0mformat\u001b[0m\u001b[0;34m(\u001b[0m\u001b[0mround\u001b[0m\u001b[0;34m(\u001b[0m\u001b[0mtime\u001b[0m\u001b[0;34m.\u001b[0m\u001b[0mtime\u001b[0m\u001b[0;34m(\u001b[0m\u001b[0;34m)\u001b[0m \u001b[0;34m-\u001b[0m \u001b[0mstart_CPU_time\u001b[0m\u001b[0;34m)\u001b[0m\u001b[0;34m,\u001b[0m \u001b[0mdatetime\u001b[0m\u001b[0;34m.\u001b[0m\u001b[0mfromtimestamp\u001b[0m\u001b[0;34m(\u001b[0m\u001b[0msim_UTC_time\u001b[0m\u001b[0;34m)\u001b[0m\u001b[0;34m.\u001b[0m\u001b[0mstrftime\u001b[0m\u001b[0;34m(\u001b[0m\u001b[0;34m\"%Y-%m-%d %H:%M:%S\"\u001b[0m\u001b[0;34m)\u001b[0m\u001b[0;34m,\u001b[0m \u001b[0;34m'FINISH'\u001b[0m\u001b[0;34m,\u001b[0m\u001b[0mlist\u001b[0m\u001b[0;34m(\u001b[0m\u001b[0mnewlot\u001b[0m\u001b[0;34m[\u001b[0m\u001b[0;34m'bins'\u001b[0m\u001b[0;34m]\u001b[0m\u001b[0;34m.\u001b[0m\u001b[0mkeys\u001b[0m\u001b[0;34m(\u001b[0m\u001b[0;34m)\u001b[0m\u001b[0;34m)\u001b[0m\u001b[0;34m[\u001b[0m\u001b[0;36m0\u001b[0m\u001b[0;34m]\u001b[0m\u001b[0;34m,\u001b[0m \u001b[0mnewlot\u001b[0m\u001b[0;34m[\u001b[0m\u001b[0;34m'name'\u001b[0m\u001b[0;34m]\u001b[0m\u001b[0;34m)\u001b[0m\u001b[0;34m)\u001b[0m\u001b[0;34m\u001b[0m\u001b[0;34m\u001b[0m\u001b[0m\n\u001b[1;32m     56\u001b[0m \u001b[0;34m\u001b[0m\u001b[0m\n\u001b[0;32m---> 57\u001b[0;31m                 \u001b[0mlot_cycle_time\u001b[0m \u001b[0;34m=\u001b[0m \u001b[0mstation\u001b[0m\u001b[0;34m[\u001b[0m\u001b[0;34m'cycle_times'\u001b[0m\u001b[0;34m]\u001b[0m\u001b[0;34m[\u001b[0m\u001b[0mlot\u001b[0m\u001b[0;34m[\u001b[0m\u001b[0;34m'lotTemplateId'\u001b[0m\u001b[0;34m]\u001b[0m\u001b[0;34m]\u001b[0m\u001b[0;34m[\u001b[0m\u001b[0;34m'actual'\u001b[0m\u001b[0;34m]\u001b[0m\u001b[0;34m\u001b[0m\u001b[0;34m\u001b[0m\u001b[0m\n\u001b[0m\u001b[1;32m     58\u001b[0m                 \u001b[0mstation\u001b[0m\u001b[0;34m[\u001b[0m\u001b[0;34m'last_action'\u001b[0m\u001b[0;34m]\u001b[0m \u001b[0;34m=\u001b[0m \u001b[0mstation\u001b[0m\u001b[0;34m[\u001b[0m\u001b[0;34m'next_action'\u001b[0m\u001b[0;34m]\u001b[0m\u001b[0;34m\u001b[0m\u001b[0;34m\u001b[0m\u001b[0m\n\u001b[1;32m     59\u001b[0m                 \u001b[0mstation\u001b[0m\u001b[0;34m[\u001b[0m\u001b[0;34m'next_action'\u001b[0m\u001b[0;34m]\u001b[0m \u001b[0;34m=\u001b[0m \u001b[0msim_UTC_time\u001b[0m \u001b[0;34m+\u001b[0m \u001b[0;34m(\u001b[0m\u001b[0mdraw_from_normal\u001b[0m\u001b[0;34m(\u001b[0m\u001b[0mlot_cycle_time\u001b[0m\u001b[0;34m)\u001b[0m \u001b[0;34m*\u001b[0m \u001b[0mlot\u001b[0m\u001b[0;34m[\u001b[0m\u001b[0;34m'totalQuantity'\u001b[0m\u001b[0;34m]\u001b[0m\u001b[0;34m)\u001b[0m\u001b[0;34m\u001b[0m\u001b[0;34m\u001b[0m\u001b[0m\n",
      "\u001b[0;31mKeyError\u001b[0m: '6206bc314ff8dec86fd5711e'"
     ]
    }
   ],
   "source": [
    "\n",
    "## 3. Main simulation\n",
    "#\n",
    "#     - check all stations for whether they are ready to move\n",
    "#     - if station is a queue, kick off lot\n",
    "#     - if station is a human, move lot\n",
    "#     - pick random next station\n",
    "\n",
    "start_CPU_time = round(time.time())\n",
    "sim_UTC_time = start_UTC\n",
    "\n",
    "maxtime = 300 # seconds\n",
    "\n",
    "dashboards=optio.get_dashboards()\n",
    "processes = optio.request('GET', 'processes')\n",
    "all_routes = optio.request('GET', 'tasks')\n",
    "\n",
    "process_sources = {}\n",
    "for p in processes:\n",
    "    process_sources[p['_id']] = optio.get_sources_from_process(p)\n",
    "\n",
    "done = False \n",
    "#while(time.time() - start_CPU_time < maxtime and done==False):\n",
    "while(True):\n",
    "    # print(\"Time {}\".format(sim_UTC_time))\n",
    "    for station in stations:\n",
    "        if(station['next_action'] <= sim_UTC_time and len(station['lots'])>0):  # station is ready to release next job AND there is a job            \n",
    "            lot=station['lots'].pop(0)\n",
    "            process = ([process for process in processes if process['_id'] == lot['process_id']])[0]\n",
    "\n",
    "            if(station['type']=='queue'):\n",
    "                station_id=random.choice(process_sources[process['_id']])\n",
    "                optio.kickoff_lot(lot, lot['totalQuantity'],station_id, station['next_action'], station['next_action'])\n",
    "                target_station=add_lot_to_station(lot, station_id, sim_UTC_time) # keep track of action in local memory\n",
    "                print('{}s - {} - KICKOFF: {:>15} -> {:<15} lot {}'.format(round(time.time() - start_CPU_time), datetime.fromtimestamp(sim_UTC_time).strftime(\"%Y-%m-%d %H:%M:%S\"), station['name'], target_station['name'], lot['name']))\n",
    "                station['next_action'] = sim_UTC_time + (station['cycle_time'] * lot['totalQuantity'])\n",
    "            else:\n",
    "                route_ids=process['routes']\n",
    "                routes=[route for route in all_routes if route['_id'] in route_ids]\n",
    "                possible_routes=[route for route in routes if station['_id']==route['load']]\n",
    "                if(len(possible_routes)):\n",
    "                    route=random.choice(possible_routes)    \n",
    "                    optio.move_lot_fast(lot,lot['totalQuantity'], route, station, station['last_action'], station['next_action'])\n",
    "                    target_station = add_lot_to_station(lot, route['unload'], sim_UTC_time) # keep track of action in local memory\n",
    "                    print('{}s - {} - MOVE:    {:>15} -> {:<15} lot {}'.format(round(time.time() - start_CPU_time), datetime.fromtimestamp(sim_UTC_time).strftime(\"%Y-%m-%d %H:%M:%S\"), station['name'], target_station['name'], lot['name']))\n",
    "                else:\n",
    "                    optio.finish_lot(lot,lot['totalQuantity'],station, station['last_action'], station['next_action'], log_event=station['type'] != 'warehouse')\n",
    "                    print('{}s - {} - FINISH:  {:>15} -> {:<15} lot {}'.format(round(time.time() - start_CPU_time), datetime.fromtimestamp(sim_UTC_time).strftime(\"%Y-%m-%d %H:%M:%S\"), station['name'], 'FINISH', lot['name']))\n",
    "                    template_ids = [pg['_id'] for pg in product_groups if pg['processId'] == process['_id']]\n",
    "                    template_id=random.choice(template_ids)\n",
    "                    newlot=create_card(map_id, lot[\"process_id\"], template_id, 'QUEUE', quantity=random.randint(1,20))\n",
    "                    optio.create_lots([newlot])\n",
    "                    newlot['_id']=optio.get_lot_by_name(newlot['name'])['_id'] # need to do this as mongodb assigns random id\n",
    "                    next((station for station in stations if station['name']=='QUEUE_'+process['name']), None)['lots'].append(newlot)\n",
    "                    optio.delete_lot_by_id(lot[\"_id\"])\n",
    "                    print('{}s - {} - NEW LOT: {:>15} -> {:<15} lot {}'.format(round(time.time() - start_CPU_time), datetime.fromtimestamp(sim_UTC_time).strftime(\"%Y-%m-%d %H:%M:%S\"), 'FINISH',list(newlot['bins'].keys())[0], newlot['name']))\n",
    "                    \n",
    "                lot_cycle_time = station['cycle_times'][lot['lotTemplateId']]['actual']\n",
    "                station['last_action'] = station['next_action']\n",
    "                station['next_action'] = sim_UTC_time + (draw_from_normal(lot_cycle_time) * lot['totalQuantity'])\n",
    "\n",
    "            # Create a report at this station\n",
    "            if random.rand()<=0.05:\n",
    "                try:\n",
    "                    dashboard = [dashboard for dashboard in dashboards if dashboard['station']==station['_id']][0]\n",
    "                    report=random.choice(dashboard['report_buttons'])\n",
    "\n",
    "                    event = {\n",
    "                      \"_id\": str(uuid.uuid4()),\n",
    "                      \"dashboard_id\": dashboard['_id'],\n",
    "                      \"datetime\": sim_UTC_time,\n",
    "                      \"report_button_id\": report['_id'],\n",
    "                      \"station_id\": station['_id']\n",
    "                    }\n",
    "                    optio.create_reportevent(event)\n",
    "                except:\n",
    "                    pass\n",
    "    \n",
    "    try:\n",
    "        sim_UTC_time = min([station['next_action'] for station in stations if len(station['lots'])>0])\n",
    "        print(datetime.fromtimestamp(sim_UTC_time))\n",
    "    except:\n",
    "        print(\"No next action\")\n",
    "        done=True\n",
    "        \n",
    "    if datetime.fromtimestamp(sim_UTC_time) > datetime.now():\n",
    "        speedup_factor = 1\n",
    "        \n",
    "    #while (time.time() - start_CPU_time)*speedup_factor < sim_UTC_time - start_UTC:\n",
    "    while(datetime.fromtimestamp(sim_UTC_time)>datetime.now()):\n",
    "        time.sleep(1.0)\n",
    "\n"
   ]
  },
  {
   "cell_type": "code",
   "execution_count": 30,
   "id": "54e7ec9f-9c31-44a3-a1b0-a30735938738",
   "metadata": {},
   "outputs": [
    {
     "data": {
      "text/plain": [
       "{'actual': 321,\n",
       " 'historical': 0,\n",
       " 'last_moved': 1643798901000.0,\n",
       " 'manual': 321,\n",
       " 'theoretical': 271.47936042828724}"
      ]
     },
     "execution_count": 30,
     "metadata": {},
     "output_type": "execute_result"
    }
   ],
   "source": [
    "station['cycle_times']['6206bc314ff8dec86fd5711e']"
   ]
  },
  {
   "cell_type": "code",
   "execution_count": 22,
   "id": "6ab4f50f-2ce5-4c94-bb0c-14ddff30cdb8",
   "metadata": {},
   "outputs": [],
   "source": [
    "lot_cycle_time = draw_from_normal(station['cycle_times'][lot['lotTemplateId']]['actual'])"
   ]
  },
  {
   "cell_type": "code",
   "execution_count": 23,
   "id": "fabaa536",
   "metadata": {},
   "outputs": [
    {
     "data": {
      "text/plain": [
       "184.60401374582716"
      ]
     },
     "execution_count": 23,
     "metadata": {},
     "output_type": "execute_result"
    }
   ],
   "source": [
    "lot_cycle_time"
   ]
  },
  {
   "cell_type": "code",
   "execution_count": 103,
   "id": "b634e083",
   "metadata": {},
   "outputs": [
    {
     "data": {
      "text/plain": [
       "datetime.datetime(2022, 1, 15, 0, 20, 50, 890017)"
      ]
     },
     "execution_count": 103,
     "metadata": {},
     "output_type": "execute_result"
    }
   ],
   "source": [
    "datetime.fromtimestamp(sim_UTC_time)"
   ]
  },
  {
   "cell_type": "markdown",
   "id": "b4739afa",
   "metadata": {},
   "source": [
    "# --> End Of Simulation"
   ]
  },
  {
   "cell_type": "markdown",
   "id": "684a5275",
   "metadata": {},
   "source": []
  }
 ],
 "metadata": {
  "interpreter": {
   "hash": "fb139d972f27678f5902068e8469cd00f9fe0b75851b9da3573e0e77756ebf38"
  },
  "kernelspec": {
   "display_name": "Python 3",
   "language": "python",
   "name": "python3"
  },
  "language_info": {
   "codemirror_mode": {
    "name": "ipython",
    "version": 3
   },
   "file_extension": ".py",
   "mimetype": "text/x-python",
   "name": "python",
   "nbconvert_exporter": "python",
   "pygments_lexer": "ipython3",
   "version": "3.9.10"
  }
 },
 "nbformat": 4,
 "nbformat_minor": 5
}
